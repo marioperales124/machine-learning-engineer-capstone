{
 "cells": [
  {
   "cell_type": "code",
   "execution_count": 3,
   "metadata": {},
   "outputs": [],
   "source": [
    "import pandas as pd\n",
    "import numpy as np\n",
    "import surprise\n",
    "import os"
   ]
  },
  {
   "cell_type": "code",
   "execution_count": 2,
   "metadata": {},
   "outputs": [
    {
     "name": "stdout",
     "output_type": "stream",
     "text": [
      "G:/BIG DATA/Recommender System Udacity/books 2\\book100k-200k.csv\n",
      "G:/BIG DATA/Recommender System Udacity/books 2\\book200k-300k.csv\n",
      "G:/BIG DATA/Recommender System Udacity/books 2\\book300k-400k.csv\n",
      "G:/BIG DATA/Recommender System Udacity/books 2\\book400k-500k.csv\n",
      "G:/BIG DATA/Recommender System Udacity/books 2\\book500k-600k.csv\n",
      "G:/BIG DATA/Recommender System Udacity/books 2\\book600k-700k.csv\n",
      "G:/BIG DATA/Recommender System Udacity/books 2\\book700k-800k.csv\n",
      "G:/BIG DATA/Recommender System Udacity/books 2\\book800k-900k.csv\n",
      "G:/BIG DATA/Recommender System Udacity/books 2\\book900k-1000k.csv\n",
      "G:/BIG DATA/Recommender System Udacity/books 2\\book1000k-1100k.csv\n",
      "G:/BIG DATA/Recommender System Udacity/books 2\\book1100k-1200k.csv\n",
      "G:/BIG DATA/Recommender System Udacity/books 2\\book1200k-1300k.csv\n",
      "G:/BIG DATA/Recommender System Udacity/books 2\\book1300k-1400k.csv\n",
      "G:/BIG DATA/Recommender System Udacity/books 2\\book1400k-1500k.csv\n",
      "G:/BIG DATA/Recommender System Udacity/books 2\\book1500k-1600k.csv\n",
      "G:/BIG DATA/Recommender System Udacity/books 2\\book1600k-1700k.csv\n",
      "G:/BIG DATA/Recommender System Udacity/books 2\\book1700k-1800k.csv\n",
      "G:/BIG DATA/Recommender System Udacity/books 2\\book1800k-1900k.csv\n",
      "G:/BIG DATA/Recommender System Udacity/books 2\\book1900k-2000k.csv\n",
      "G:/BIG DATA/Recommender System Udacity/books 2\\book2000k-3000k.csv\n",
      "G:/BIG DATA/Recommender System Udacity/books 2\\book3000k-4000k.csv\n",
      "G:/BIG DATA/Recommender System Udacity/books 2\\book4000k-5000k.csv\n"
     ]
    }
   ],
   "source": [
    "books_df = pd.DataFrame()\n",
    "\n",
    "for i in range(100,2000,100):\n",
    "    path = os.path.join('G:/BIG DATA/Recommender System Udacity/books 2', f'book{i}k-{i+100}k.csv')\n",
    "    print(path)\n",
    "    books_df = books_df.append(pd.read_csv(path))\n",
    "    \n",
    "path = os.path.join('G:/BIG DATA/Recommender System Udacity/books 2', f'book1-100k.csv')   \n",
    "books_df = books_df.append(pd.read_csv(path))\n",
    "\n",
    "\n",
    "for i in range(2000,5000,1000):\n",
    "    path = os.path.join('G:/BIG DATA/Recommender System Udacity/books 2', f'book{i}k-{i+1000}k.csv')\n",
    "    print(path)\n",
    "    books_df = books_df.append(pd.read_csv(path))"
   ]
  },
  {
   "cell_type": "code",
   "execution_count": 25,
   "metadata": {},
   "outputs": [
    {
     "name": "stderr",
     "output_type": "stream",
     "text": [
      "<ipython-input-25-eee085b954c0>:1: SettingWithCopyWarning: \n",
      "A value is trying to be set on a copy of a slice from a DataFrame.\n",
      "Try using .loc[row_indexer,col_indexer] = value instead\n",
      "\n",
      "See the caveats in the documentation: https://pandas.pydata.org/pandas-docs/stable/user_guide/indexing.html#returning-a-view-versus-a-copy\n",
      "  books_df['page_number'] = books_df.apply(lambda x:\n"
     ]
    }
   ],
   "source": [
    "books_df['page_number'] = books_df.apply(lambda x: \n",
    "                                         x['pagesNumber'] if (~pd.isnull(x['pagesNumber'])) else x['PagesNumber'],axis=1)"
   ]
  },
  {
   "cell_type": "code",
   "execution_count": 26,
   "metadata": {},
   "outputs": [
    {
     "data": {
      "text/html": [
       "<div>\n",
       "<style scoped>\n",
       "    .dataframe tbody tr th:only-of-type {\n",
       "        vertical-align: middle;\n",
       "    }\n",
       "\n",
       "    .dataframe tbody tr th {\n",
       "        vertical-align: top;\n",
       "    }\n",
       "\n",
       "    .dataframe thead th {\n",
       "        text-align: right;\n",
       "    }\n",
       "</style>\n",
       "<table border=\"1\" class=\"dataframe\">\n",
       "  <thead>\n",
       "    <tr style=\"text-align: right;\">\n",
       "      <th></th>\n",
       "      <th>Unnamed: 0</th>\n",
       "      <th>pagesNumber</th>\n",
       "      <th>Authors</th>\n",
       "      <th>Publisher</th>\n",
       "      <th>Rating</th>\n",
       "      <th>Language</th>\n",
       "      <th>RatingDistTotal</th>\n",
       "      <th>RatingDist5</th>\n",
       "      <th>RatingDist3</th>\n",
       "      <th>CountsOfReview</th>\n",
       "      <th>...</th>\n",
       "      <th>PublishMonth</th>\n",
       "      <th>Id</th>\n",
       "      <th>PublishYear</th>\n",
       "      <th>RatingDist1</th>\n",
       "      <th>RatingDist2</th>\n",
       "      <th>Name</th>\n",
       "      <th>Description</th>\n",
       "      <th>Count of text reviews</th>\n",
       "      <th>PagesNumber</th>\n",
       "      <th>page_number</th>\n",
       "    </tr>\n",
       "  </thead>\n",
       "  <tbody>\n",
       "    <tr>\n",
       "      <th>0</th>\n",
       "      <td>0</td>\n",
       "      <td>400.0</td>\n",
       "      <td>Royce Flippin</td>\n",
       "      <td>PublicAffairs</td>\n",
       "      <td>4.18</td>\n",
       "      <td>NaN</td>\n",
       "      <td>total:11</td>\n",
       "      <td>5:3</td>\n",
       "      <td>3:1</td>\n",
       "      <td>1</td>\n",
       "      <td>...</td>\n",
       "      <td>20</td>\n",
       "      <td>100000</td>\n",
       "      <td>2004</td>\n",
       "      <td>1:0</td>\n",
       "      <td>2:0</td>\n",
       "      <td>The Best American Political Writing 2004: Spec...</td>\n",
       "      <td>NaN</td>\n",
       "      <td>NaN</td>\n",
       "      <td>NaN</td>\n",
       "      <td>400.0</td>\n",
       "    </tr>\n",
       "    <tr>\n",
       "      <th>1</th>\n",
       "      <td>1</td>\n",
       "      <td>30.0</td>\n",
       "      <td>Gail Sakurai</td>\n",
       "      <td>Turtleback Books</td>\n",
       "      <td>4.00</td>\n",
       "      <td>NaN</td>\n",
       "      <td>total:6</td>\n",
       "      <td>5:2</td>\n",
       "      <td>3:2</td>\n",
       "      <td>0</td>\n",
       "      <td>...</td>\n",
       "      <td>1</td>\n",
       "      <td>100004</td>\n",
       "      <td>1996</td>\n",
       "      <td>1:0</td>\n",
       "      <td>2:0</td>\n",
       "      <td>Stephen Hawking: Understanding the Universe</td>\n",
       "      <td>NaN</td>\n",
       "      <td>NaN</td>\n",
       "      <td>NaN</td>\n",
       "      <td>30.0</td>\n",
       "    </tr>\n",
       "    <tr>\n",
       "      <th>2</th>\n",
       "      <td>2</td>\n",
       "      <td>16.0</td>\n",
       "      <td>Sandi Hill</td>\n",
       "      <td>Creative Teaching Press</td>\n",
       "      <td>3.60</td>\n",
       "      <td>NaN</td>\n",
       "      <td>total:5</td>\n",
       "      <td>5:0</td>\n",
       "      <td>3:2</td>\n",
       "      <td>2</td>\n",
       "      <td>...</td>\n",
       "      <td>1</td>\n",
       "      <td>100007</td>\n",
       "      <td>1998</td>\n",
       "      <td>1:0</td>\n",
       "      <td>2:0</td>\n",
       "      <td>Detective Dog and the Search for Cat</td>\n",
       "      <td>NaN</td>\n",
       "      <td>NaN</td>\n",
       "      <td>NaN</td>\n",
       "      <td>16.0</td>\n",
       "    </tr>\n",
       "    <tr>\n",
       "      <th>3</th>\n",
       "      <td>3</td>\n",
       "      <td>280.0</td>\n",
       "      <td>Bob Butz</td>\n",
       "      <td>Lyons Press</td>\n",
       "      <td>3.21</td>\n",
       "      <td>NaN</td>\n",
       "      <td>total:29</td>\n",
       "      <td>5:3</td>\n",
       "      <td>3:12</td>\n",
       "      <td>6</td>\n",
       "      <td>...</td>\n",
       "      <td>1</td>\n",
       "      <td>100010</td>\n",
       "      <td>2005</td>\n",
       "      <td>1:2</td>\n",
       "      <td>2:4</td>\n",
       "      <td>Beast of Never, Cat of God: The Search for the...</td>\n",
       "      <td>NaN</td>\n",
       "      <td>NaN</td>\n",
       "      <td>NaN</td>\n",
       "      <td>280.0</td>\n",
       "    </tr>\n",
       "    <tr>\n",
       "      <th>4</th>\n",
       "      <td>4</td>\n",
       "      <td>193.0</td>\n",
       "      <td>Raymond B. Marcin</td>\n",
       "      <td>Catholic University of America Press</td>\n",
       "      <td>3.43</td>\n",
       "      <td>NaN</td>\n",
       "      <td>total:7</td>\n",
       "      <td>5:0</td>\n",
       "      <td>3:2</td>\n",
       "      <td>0</td>\n",
       "      <td>...</td>\n",
       "      <td>3</td>\n",
       "      <td>100011</td>\n",
       "      <td>2006</td>\n",
       "      <td>1:0</td>\n",
       "      <td>2:1</td>\n",
       "      <td>In Search of Schopenhauer's Cat: Arthur Schope...</td>\n",
       "      <td>NaN</td>\n",
       "      <td>NaN</td>\n",
       "      <td>NaN</td>\n",
       "      <td>193.0</td>\n",
       "    </tr>\n",
       "    <tr>\n",
       "      <th>5</th>\n",
       "      <td>5</td>\n",
       "      <td>168.0</td>\n",
       "      <td>Sue Hamilton</td>\n",
       "      <td>Oxford University Press, USA</td>\n",
       "      <td>3.52</td>\n",
       "      <td>en-GB</td>\n",
       "      <td>total:313</td>\n",
       "      <td>5:42</td>\n",
       "      <td>3:111</td>\n",
       "      <td>33</td>\n",
       "      <td>...</td>\n",
       "      <td>7</td>\n",
       "      <td>100016</td>\n",
       "      <td>2001</td>\n",
       "      <td>1:4</td>\n",
       "      <td>2:34</td>\n",
       "      <td>Indian Philosophy: A Very Short Introduction</td>\n",
       "      <td>NaN</td>\n",
       "      <td>NaN</td>\n",
       "      <td>NaN</td>\n",
       "      <td>168.0</td>\n",
       "    </tr>\n",
       "    <tr>\n",
       "      <th>6</th>\n",
       "      <td>6</td>\n",
       "      <td>149.0</td>\n",
       "      <td>Simon Critchley</td>\n",
       "      <td>Oxford University Press, USA</td>\n",
       "      <td>3.70</td>\n",
       "      <td>NaN</td>\n",
       "      <td>total:677</td>\n",
       "      <td>5:149</td>\n",
       "      <td>3:230</td>\n",
       "      <td>62</td>\n",
       "      <td>...</td>\n",
       "      <td>7</td>\n",
       "      <td>100017</td>\n",
       "      <td>2001</td>\n",
       "      <td>1:9</td>\n",
       "      <td>2:48</td>\n",
       "      <td>Continental Philosophy: A Very Short Introduction</td>\n",
       "      <td>NaN</td>\n",
       "      <td>NaN</td>\n",
       "      <td>NaN</td>\n",
       "      <td>149.0</td>\n",
       "    </tr>\n",
       "    <tr>\n",
       "      <th>7</th>\n",
       "      <td>7</td>\n",
       "      <td>133.0</td>\n",
       "      <td>Julia Annas</td>\n",
       "      <td>Oxford University Press, USA</td>\n",
       "      <td>3.54</td>\n",
       "      <td>eng</td>\n",
       "      <td>total:401</td>\n",
       "      <td>5:63</td>\n",
       "      <td>3:140</td>\n",
       "      <td>46</td>\n",
       "      <td>...</td>\n",
       "      <td>18</td>\n",
       "      <td>100019</td>\n",
       "      <td>2001</td>\n",
       "      <td>1:8</td>\n",
       "      <td>2:42</td>\n",
       "      <td>Ancient Philosophy: A Very Short Introduction</td>\n",
       "      <td>NaN</td>\n",
       "      <td>NaN</td>\n",
       "      <td>NaN</td>\n",
       "      <td>133.0</td>\n",
       "    </tr>\n",
       "    <tr>\n",
       "      <th>8</th>\n",
       "      <td>8</td>\n",
       "      <td>127.0</td>\n",
       "      <td>Raymond Wacks</td>\n",
       "      <td>Oxford University Press, USA</td>\n",
       "      <td>3.67</td>\n",
       "      <td>NaN</td>\n",
       "      <td>total:354</td>\n",
       "      <td>5:74</td>\n",
       "      <td>3:117</td>\n",
       "      <td>26</td>\n",
       "      <td>...</td>\n",
       "      <td>22</td>\n",
       "      <td>100020</td>\n",
       "      <td>2006</td>\n",
       "      <td>1:5</td>\n",
       "      <td>2:30</td>\n",
       "      <td>Philosophy of Law: A Very Short Introduction</td>\n",
       "      <td>NaN</td>\n",
       "      <td>NaN</td>\n",
       "      <td>NaN</td>\n",
       "      <td>127.0</td>\n",
       "    </tr>\n",
       "    <tr>\n",
       "      <th>9</th>\n",
       "      <td>9</td>\n",
       "      <td>112.0</td>\n",
       "      <td>Thomas Nagel</td>\n",
       "      <td>Oxford University Press, USA</td>\n",
       "      <td>3.65</td>\n",
       "      <td>en-US</td>\n",
       "      <td>total:2758</td>\n",
       "      <td>5:545</td>\n",
       "      <td>3:899</td>\n",
       "      <td>177</td>\n",
       "      <td>...</td>\n",
       "      <td>15</td>\n",
       "      <td>100021</td>\n",
       "      <td>1987</td>\n",
       "      <td>1:49</td>\n",
       "      <td>2:230</td>\n",
       "      <td>What Does It All Mean? A Very Short Introducti...</td>\n",
       "      <td>NaN</td>\n",
       "      <td>NaN</td>\n",
       "      <td>NaN</td>\n",
       "      <td>112.0</td>\n",
       "    </tr>\n",
       "  </tbody>\n",
       "</table>\n",
       "<p>10 rows × 23 columns</p>\n",
       "</div>"
      ],
      "text/plain": [
       "   Unnamed: 0  pagesNumber            Authors  \\\n",
       "0           0        400.0      Royce Flippin   \n",
       "1           1         30.0       Gail Sakurai   \n",
       "2           2         16.0         Sandi Hill   \n",
       "3           3        280.0           Bob Butz   \n",
       "4           4        193.0  Raymond B. Marcin   \n",
       "5           5        168.0       Sue Hamilton   \n",
       "6           6        149.0    Simon Critchley   \n",
       "7           7        133.0        Julia Annas   \n",
       "8           8        127.0      Raymond Wacks   \n",
       "9           9        112.0       Thomas Nagel   \n",
       "\n",
       "                              Publisher  Rating Language RatingDistTotal  \\\n",
       "0                         PublicAffairs    4.18      NaN        total:11   \n",
       "1                      Turtleback Books    4.00      NaN         total:6   \n",
       "2               Creative Teaching Press    3.60      NaN         total:5   \n",
       "3                           Lyons Press    3.21      NaN        total:29   \n",
       "4  Catholic University of America Press    3.43      NaN         total:7   \n",
       "5          Oxford University Press, USA    3.52    en-GB       total:313   \n",
       "6          Oxford University Press, USA    3.70      NaN       total:677   \n",
       "7          Oxford University Press, USA    3.54      eng       total:401   \n",
       "8          Oxford University Press, USA    3.67      NaN       total:354   \n",
       "9          Oxford University Press, USA    3.65    en-US      total:2758   \n",
       "\n",
       "  RatingDist5 RatingDist3  CountsOfReview  ...  PublishMonth      Id  \\\n",
       "0         5:3         3:1               1  ...            20  100000   \n",
       "1         5:2         3:2               0  ...             1  100004   \n",
       "2         5:0         3:2               2  ...             1  100007   \n",
       "3         5:3        3:12               6  ...             1  100010   \n",
       "4         5:0         3:2               0  ...             3  100011   \n",
       "5        5:42       3:111              33  ...             7  100016   \n",
       "6       5:149       3:230              62  ...             7  100017   \n",
       "7        5:63       3:140              46  ...            18  100019   \n",
       "8        5:74       3:117              26  ...            22  100020   \n",
       "9       5:545       3:899             177  ...            15  100021   \n",
       "\n",
       "  PublishYear  RatingDist1  RatingDist2  \\\n",
       "0        2004          1:0          2:0   \n",
       "1        1996          1:0          2:0   \n",
       "2        1998          1:0          2:0   \n",
       "3        2005          1:2          2:4   \n",
       "4        2006          1:0          2:1   \n",
       "5        2001          1:4         2:34   \n",
       "6        2001          1:9         2:48   \n",
       "7        2001          1:8         2:42   \n",
       "8        2006          1:5         2:30   \n",
       "9        1987         1:49        2:230   \n",
       "\n",
       "                                                Name Description  \\\n",
       "0  The Best American Political Writing 2004: Spec...         NaN   \n",
       "1        Stephen Hawking: Understanding the Universe         NaN   \n",
       "2               Detective Dog and the Search for Cat         NaN   \n",
       "3  Beast of Never, Cat of God: The Search for the...         NaN   \n",
       "4  In Search of Schopenhauer's Cat: Arthur Schope...         NaN   \n",
       "5       Indian Philosophy: A Very Short Introduction         NaN   \n",
       "6  Continental Philosophy: A Very Short Introduction         NaN   \n",
       "7      Ancient Philosophy: A Very Short Introduction         NaN   \n",
       "8       Philosophy of Law: A Very Short Introduction         NaN   \n",
       "9  What Does It All Mean? A Very Short Introducti...         NaN   \n",
       "\n",
       "  Count of text reviews PagesNumber page_number  \n",
       "0                   NaN         NaN       400.0  \n",
       "1                   NaN         NaN        30.0  \n",
       "2                   NaN         NaN        16.0  \n",
       "3                   NaN         NaN       280.0  \n",
       "4                   NaN         NaN       193.0  \n",
       "5                   NaN         NaN       168.0  \n",
       "6                   NaN         NaN       149.0  \n",
       "7                   NaN         NaN       133.0  \n",
       "8                   NaN         NaN       127.0  \n",
       "9                   NaN         NaN       112.0  \n",
       "\n",
       "[10 rows x 23 columns]"
      ]
     },
     "execution_count": 26,
     "metadata": {},
     "output_type": "execute_result"
    }
   ],
   "source": [
    "books_df.head(10)"
   ]
  },
  {
   "cell_type": "code",
   "execution_count": 27,
   "metadata": {},
   "outputs": [],
   "source": [
    "books_df.drop('Unnamed: 0', axis=1, errors='ignore').to_csv('books_info.csv')"
   ]
  },
  {
   "cell_type": "markdown",
   "metadata": {},
   "source": [
    "## Load from here books_df"
   ]
  },
  {
   "cell_type": "code",
   "execution_count": 4,
   "metadata": {},
   "outputs": [
    {
     "name": "stderr",
     "output_type": "stream",
     "text": [
      "C:\\Users\\mperp\\anaconda3\\envs\\bbva-env\\lib\\site-packages\\IPython\\core\\interactiveshell.py:3146: DtypeWarning: Columns (19) have mixed types.Specify dtype option on import or set low_memory=False.\n",
      "  has_raised = await self.run_ast_nodes(code_ast.body, cell_name,\n",
      "C:\\Users\\mperp\\anaconda3\\envs\\bbva-env\\lib\\site-packages\\numpy\\lib\\arraysetops.py:580: FutureWarning: elementwise comparison failed; returning scalar instead, but in the future will perform elementwise comparison\n",
      "  mask |= (ar1 == a)\n"
     ]
    }
   ],
   "source": [
    "books_df = pd.read_csv('books_info.csv', index_col=0)"
   ]
  },
  {
   "cell_type": "code",
   "execution_count": 8,
   "metadata": {},
   "outputs": [
    {
     "data": {
      "text/plain": [
       "208324"
      ]
     },
     "execution_count": 8,
     "metadata": {},
     "output_type": "execute_result"
    }
   ],
   "source": [
    "books_df.Language.count()"
   ]
  },
  {
   "cell_type": "code",
   "execution_count": 6,
   "metadata": {},
   "outputs": [
    {
     "data": {
      "text/plain": [
       "Index(['pagesNumber', 'Authors', 'Publisher', 'Rating', 'Language',\n",
       "       'RatingDistTotal', 'RatingDist5', 'RatingDist3', 'CountsOfReview',\n",
       "       'PublishDay', 'ISBN', 'RatingDist4', 'PublishMonth', 'Id',\n",
       "       'PublishYear', 'RatingDist1', 'RatingDist2', 'Name', 'Description',\n",
       "       'Count of text reviews', 'PagesNumber', 'page_number'],\n",
       "      dtype='object')"
      ]
     },
     "execution_count": 6,
     "metadata": {},
     "output_type": "execute_result"
    }
   ],
   "source": [
    "books_df.columns"
   ]
  },
  {
   "cell_type": "code",
   "execution_count": 13,
   "metadata": {},
   "outputs": [
    {
     "data": {
      "text/plain": [
       "1636235"
      ]
     },
     "execution_count": 13,
     "metadata": {},
     "output_type": "execute_result"
    }
   ],
   "source": [
    "books_df.Name.nunique()"
   ]
  },
  {
   "cell_type": "code",
   "execution_count": 14,
   "metadata": {},
   "outputs": [
    {
     "data": {
      "text/plain": [
       "1850115"
      ]
     },
     "execution_count": 14,
     "metadata": {},
     "output_type": "execute_result"
    }
   ],
   "source": [
    "books_df.Id.nunique()"
   ]
  },
  {
   "cell_type": "code",
   "execution_count": 35,
   "metadata": {},
   "outputs": [
    {
     "data": {
      "text/html": [
       "<div>\n",
       "<style scoped>\n",
       "    .dataframe tbody tr th:only-of-type {\n",
       "        vertical-align: middle;\n",
       "    }\n",
       "\n",
       "    .dataframe tbody tr th {\n",
       "        vertical-align: top;\n",
       "    }\n",
       "\n",
       "    .dataframe thead th {\n",
       "        text-align: right;\n",
       "    }\n",
       "</style>\n",
       "<table border=\"1\" class=\"dataframe\">\n",
       "  <thead>\n",
       "    <tr style=\"text-align: right;\">\n",
       "      <th></th>\n",
       "      <th>pagesNumber</th>\n",
       "      <th>Authors</th>\n",
       "      <th>Publisher</th>\n",
       "      <th>Rating</th>\n",
       "      <th>Language</th>\n",
       "      <th>RatingDistTotal</th>\n",
       "      <th>RatingDist5</th>\n",
       "      <th>RatingDist3</th>\n",
       "      <th>CountsOfReview</th>\n",
       "      <th>PublishDay</th>\n",
       "      <th>...</th>\n",
       "      <th>PublishMonth</th>\n",
       "      <th>Id</th>\n",
       "      <th>PublishYear</th>\n",
       "      <th>RatingDist1</th>\n",
       "      <th>RatingDist2</th>\n",
       "      <th>Name</th>\n",
       "      <th>Description</th>\n",
       "      <th>Count of text reviews</th>\n",
       "      <th>PagesNumber</th>\n",
       "      <th>page_number</th>\n",
       "    </tr>\n",
       "  </thead>\n",
       "  <tbody>\n",
       "    <tr>\n",
       "      <th>690</th>\n",
       "      <td>200.0</td>\n",
       "      <td>Lavonne McKee</td>\n",
       "      <td>New Horizon Press</td>\n",
       "      <td>3.50</td>\n",
       "      <td>NaN</td>\n",
       "      <td>total:6</td>\n",
       "      <td>5:2</td>\n",
       "      <td>3:2</td>\n",
       "      <td>1</td>\n",
       "      <td>1</td>\n",
       "      <td>...</td>\n",
       "      <td>15</td>\n",
       "      <td>101145</td>\n",
       "      <td>1994</td>\n",
       "      <td>1:1</td>\n",
       "      <td>2:0</td>\n",
       "      <td>Get Ready to Say Goodbye</td>\n",
       "      <td>NaN</td>\n",
       "      <td>NaN</td>\n",
       "      <td>NaN</td>\n",
       "      <td>200.0</td>\n",
       "    </tr>\n",
       "    <tr>\n",
       "      <th>4119</th>\n",
       "      <td>192.0</td>\n",
       "      <td>Arrol Gellner</td>\n",
       "      <td>Studio</td>\n",
       "      <td>4.25</td>\n",
       "      <td>NaN</td>\n",
       "      <td>total:16</td>\n",
       "      <td>5:6</td>\n",
       "      <td>3:2</td>\n",
       "      <td>1</td>\n",
       "      <td>9</td>\n",
       "      <td>...</td>\n",
       "      <td>29</td>\n",
       "      <td>106795</td>\n",
       "      <td>2003</td>\n",
       "      <td>1:0</td>\n",
       "      <td>2:0</td>\n",
       "      <td>Ready to Roll: A Celebration of the Classic Am...</td>\n",
       "      <td>NaN</td>\n",
       "      <td>NaN</td>\n",
       "      <td>NaN</td>\n",
       "      <td>192.0</td>\n",
       "    </tr>\n",
       "    <tr>\n",
       "      <th>4825</th>\n",
       "      <td>128.0</td>\n",
       "      <td>Elissa Stein</td>\n",
       "      <td>Chronicle Books</td>\n",
       "      <td>4.19</td>\n",
       "      <td>NaN</td>\n",
       "      <td>total:16</td>\n",
       "      <td>5:10</td>\n",
       "      <td>3:3</td>\n",
       "      <td>5</td>\n",
       "      <td>7</td>\n",
       "      <td>...</td>\n",
       "      <td>22</td>\n",
       "      <td>107942</td>\n",
       "      <td>2004</td>\n",
       "      <td>1:0</td>\n",
       "      <td>2:2</td>\n",
       "      <td>Cheerleader: Ready? Okay!</td>\n",
       "      <td>NaN</td>\n",
       "      <td>NaN</td>\n",
       "      <td>NaN</td>\n",
       "      <td>128.0</td>\n",
       "    </tr>\n",
       "    <tr>\n",
       "      <th>5455</th>\n",
       "      <td>96.0</td>\n",
       "      <td>Abby Klein</td>\n",
       "      <td>The Blue Sky Press</td>\n",
       "      <td>3.96</td>\n",
       "      <td>eng</td>\n",
       "      <td>total:163</td>\n",
       "      <td>5:73</td>\n",
       "      <td>3:38</td>\n",
       "      <td>15</td>\n",
       "      <td>1</td>\n",
       "      <td>...</td>\n",
       "      <td>1</td>\n",
       "      <td>108890</td>\n",
       "      <td>2007</td>\n",
       "      <td>1:7</td>\n",
       "      <td>2:10</td>\n",
       "      <td>Super-Secret Valentine (Ready, Freddy!, #10)</td>\n",
       "      <td>NaN</td>\n",
       "      <td>NaN</td>\n",
       "      <td>NaN</td>\n",
       "      <td>96.0</td>\n",
       "    </tr>\n",
       "    <tr>\n",
       "      <th>5456</th>\n",
       "      <td>96.0</td>\n",
       "      <td>Abby Klein</td>\n",
       "      <td>The Blue Sky Press</td>\n",
       "      <td>4.05</td>\n",
       "      <td>eng</td>\n",
       "      <td>total:260</td>\n",
       "      <td>5:124</td>\n",
       "      <td>3:52</td>\n",
       "      <td>8</td>\n",
       "      <td>10</td>\n",
       "      <td>...</td>\n",
       "      <td>1</td>\n",
       "      <td>108892</td>\n",
       "      <td>2006</td>\n",
       "      <td>1:10</td>\n",
       "      <td>2:14</td>\n",
       "      <td>Shark Tooth Tale (Ready, Freddy!, #9)</td>\n",
       "      <td>NaN</td>\n",
       "      <td>NaN</td>\n",
       "      <td>NaN</td>\n",
       "      <td>96.0</td>\n",
       "    </tr>\n",
       "    <tr>\n",
       "      <th>...</th>\n",
       "      <td>...</td>\n",
       "      <td>...</td>\n",
       "      <td>...</td>\n",
       "      <td>...</td>\n",
       "      <td>...</td>\n",
       "      <td>...</td>\n",
       "      <td>...</td>\n",
       "      <td>...</td>\n",
       "      <td>...</td>\n",
       "      <td>...</td>\n",
       "      <td>...</td>\n",
       "      <td>...</td>\n",
       "      <td>...</td>\n",
       "      <td>...</td>\n",
       "      <td>...</td>\n",
       "      <td>...</td>\n",
       "      <td>...</td>\n",
       "      <td>...</td>\n",
       "      <td>...</td>\n",
       "      <td>...</td>\n",
       "      <td>...</td>\n",
       "    </tr>\n",
       "    <tr>\n",
       "      <th>1844958</th>\n",
       "      <td>NaN</td>\n",
       "      <td>Candace J. Hamner</td>\n",
       "      <td>Opus Communications</td>\n",
       "      <td>0.00</td>\n",
       "      <td>NaN</td>\n",
       "      <td>total:0</td>\n",
       "      <td>5:0</td>\n",
       "      <td>3:0</td>\n",
       "      <td>0</td>\n",
       "      <td>1</td>\n",
       "      <td>...</td>\n",
       "      <td>1</td>\n",
       "      <td>4828385</td>\n",
       "      <td>1998</td>\n",
       "      <td>1:0</td>\n",
       "      <td>2:0</td>\n",
       "      <td>Ready, Set, Jcaho!</td>\n",
       "      <td>NaN</td>\n",
       "      <td>NaN</td>\n",
       "      <td>272.0</td>\n",
       "      <td>NaN</td>\n",
       "    </tr>\n",
       "    <tr>\n",
       "      <th>1845021</th>\n",
       "      <td>NaN</td>\n",
       "      <td>Garry Davis</td>\n",
       "      <td>World Government House</td>\n",
       "      <td>0.00</td>\n",
       "      <td>NaN</td>\n",
       "      <td>total:0</td>\n",
       "      <td>5:0</td>\n",
       "      <td>3:0</td>\n",
       "      <td>0</td>\n",
       "      <td>31</td>\n",
       "      <td>...</td>\n",
       "      <td>10</td>\n",
       "      <td>4828554</td>\n",
       "      <td>2003</td>\n",
       "      <td>1:0</td>\n",
       "      <td>2:0</td>\n",
       "      <td>World Government, Ready or Not!</td>\n",
       "      <td>WORLD GOVERNMENT, READY OR NOT! is the first h...</td>\n",
       "      <td>NaN</td>\n",
       "      <td>404.0</td>\n",
       "      <td>NaN</td>\n",
       "    </tr>\n",
       "    <tr>\n",
       "      <th>1845455</th>\n",
       "      <td>NaN</td>\n",
       "      <td>Carol A. Josel</td>\n",
       "      <td>Center for Applied Research in Education</td>\n",
       "      <td>3.50</td>\n",
       "      <td>NaN</td>\n",
       "      <td>total:4</td>\n",
       "      <td>5:0</td>\n",
       "      <td>3:0</td>\n",
       "      <td>0</td>\n",
       "      <td>1</td>\n",
       "      <td>...</td>\n",
       "      <td>3</td>\n",
       "      <td>4830103</td>\n",
       "      <td>1994</td>\n",
       "      <td>1:0</td>\n",
       "      <td>2:1</td>\n",
       "      <td>Ready To Use Esl Activities For Every Month Of...</td>\n",
       "      <td>NaN</td>\n",
       "      <td>NaN</td>\n",
       "      <td>312.0</td>\n",
       "      <td>NaN</td>\n",
       "    </tr>\n",
       "    <tr>\n",
       "      <th>1848231</th>\n",
       "      <td>NaN</td>\n",
       "      <td>Robert J. Dean</td>\n",
       "      <td>B&amp;H Publishing Group</td>\n",
       "      <td>0.00</td>\n",
       "      <td>NaN</td>\n",
       "      <td>total:0</td>\n",
       "      <td>5:0</td>\n",
       "      <td>3:0</td>\n",
       "      <td>0</td>\n",
       "      <td>23</td>\n",
       "      <td>...</td>\n",
       "      <td>3</td>\n",
       "      <td>4838706</td>\n",
       "      <td>1998</td>\n",
       "      <td>1:0</td>\n",
       "      <td>2:0</td>\n",
       "      <td>14 Ready to Teach Bible Study Lessons</td>\n",
       "      <td>NaN</td>\n",
       "      <td>NaN</td>\n",
       "      <td>112.0</td>\n",
       "      <td>NaN</td>\n",
       "    </tr>\n",
       "    <tr>\n",
       "      <th>1849784</th>\n",
       "      <td>NaN</td>\n",
       "      <td>Lori De Goede</td>\n",
       "      <td>Frank Schaffer Publications</td>\n",
       "      <td>0.00</td>\n",
       "      <td>NaN</td>\n",
       "      <td>total:0</td>\n",
       "      <td>5:0</td>\n",
       "      <td>3:0</td>\n",
       "      <td>0</td>\n",
       "      <td>17</td>\n",
       "      <td>...</td>\n",
       "      <td>5</td>\n",
       "      <td>4844470</td>\n",
       "      <td>2004</td>\n",
       "      <td>1:0</td>\n",
       "      <td>2:0</td>\n",
       "      <td>Getting Ready To Teach Reading For The New Tea...</td>\n",
       "      <td>If you want to build a fantastic reading progr...</td>\n",
       "      <td>NaN</td>\n",
       "      <td>144.0</td>\n",
       "      <td>NaN</td>\n",
       "    </tr>\n",
       "  </tbody>\n",
       "</table>\n",
       "<p>1246 rows × 22 columns</p>\n",
       "</div>"
      ],
      "text/plain": [
       "         pagesNumber            Authors  \\\n",
       "690            200.0      Lavonne McKee   \n",
       "4119           192.0      Arrol Gellner   \n",
       "4825           128.0       Elissa Stein   \n",
       "5455            96.0         Abby Klein   \n",
       "5456            96.0         Abby Klein   \n",
       "...              ...                ...   \n",
       "1844958          NaN  Candace J. Hamner   \n",
       "1845021          NaN        Garry Davis   \n",
       "1845455          NaN     Carol A. Josel   \n",
       "1848231          NaN     Robert J. Dean   \n",
       "1849784          NaN      Lori De Goede   \n",
       "\n",
       "                                        Publisher  Rating Language  \\\n",
       "690                             New Horizon Press    3.50      NaN   \n",
       "4119                                       Studio    4.25      NaN   \n",
       "4825                              Chronicle Books    4.19      NaN   \n",
       "5455                           The Blue Sky Press    3.96      eng   \n",
       "5456                           The Blue Sky Press    4.05      eng   \n",
       "...                                           ...     ...      ...   \n",
       "1844958                       Opus Communications    0.00      NaN   \n",
       "1845021                    World Government House    0.00      NaN   \n",
       "1845455  Center for Applied Research in Education    3.50      NaN   \n",
       "1848231                      B&H Publishing Group    0.00      NaN   \n",
       "1849784               Frank Schaffer Publications    0.00      NaN   \n",
       "\n",
       "        RatingDistTotal RatingDist5 RatingDist3  CountsOfReview  PublishDay  \\\n",
       "690             total:6         5:2         3:2               1           1   \n",
       "4119           total:16         5:6         3:2               1           9   \n",
       "4825           total:16        5:10         3:3               5           7   \n",
       "5455          total:163        5:73        3:38              15           1   \n",
       "5456          total:260       5:124        3:52               8          10   \n",
       "...                 ...         ...         ...             ...         ...   \n",
       "1844958         total:0         5:0         3:0               0           1   \n",
       "1845021         total:0         5:0         3:0               0          31   \n",
       "1845455         total:4         5:0         3:0               0           1   \n",
       "1848231         total:0         5:0         3:0               0          23   \n",
       "1849784         total:0         5:0         3:0               0          17   \n",
       "\n",
       "         ... PublishMonth       Id  PublishYear  RatingDist1  RatingDist2  \\\n",
       "690      ...           15   101145         1994          1:1          2:0   \n",
       "4119     ...           29   106795         2003          1:0          2:0   \n",
       "4825     ...           22   107942         2004          1:0          2:2   \n",
       "5455     ...            1   108890         2007          1:7         2:10   \n",
       "5456     ...            1   108892         2006         1:10         2:14   \n",
       "...      ...          ...      ...          ...          ...          ...   \n",
       "1844958  ...            1  4828385         1998          1:0          2:0   \n",
       "1845021  ...           10  4828554         2003          1:0          2:0   \n",
       "1845455  ...            3  4830103         1994          1:0          2:1   \n",
       "1848231  ...            3  4838706         1998          1:0          2:0   \n",
       "1849784  ...            5  4844470         2004          1:0          2:0   \n",
       "\n",
       "                                                      Name  \\\n",
       "690                               Get Ready to Say Goodbye   \n",
       "4119     Ready to Roll: A Celebration of the Classic Am...   \n",
       "4825                             Cheerleader: Ready? Okay!   \n",
       "5455          Super-Secret Valentine (Ready, Freddy!, #10)   \n",
       "5456                 Shark Tooth Tale (Ready, Freddy!, #9)   \n",
       "...                                                    ...   \n",
       "1844958                                 Ready, Set, Jcaho!   \n",
       "1845021                    World Government, Ready or Not!   \n",
       "1845455  Ready To Use Esl Activities For Every Month Of...   \n",
       "1848231              14 Ready to Teach Bible Study Lessons   \n",
       "1849784  Getting Ready To Teach Reading For The New Tea...   \n",
       "\n",
       "                                               Description  \\\n",
       "690                                                    NaN   \n",
       "4119                                                   NaN   \n",
       "4825                                                   NaN   \n",
       "5455                                                   NaN   \n",
       "5456                                                   NaN   \n",
       "...                                                    ...   \n",
       "1844958                                                NaN   \n",
       "1845021  WORLD GOVERNMENT, READY OR NOT! is the first h...   \n",
       "1845455                                                NaN   \n",
       "1848231                                                NaN   \n",
       "1849784  If you want to build a fantastic reading progr...   \n",
       "\n",
       "        Count of text reviews PagesNumber  page_number  \n",
       "690                       NaN         NaN        200.0  \n",
       "4119                      NaN         NaN        192.0  \n",
       "4825                      NaN         NaN        128.0  \n",
       "5455                      NaN         NaN         96.0  \n",
       "5456                      NaN         NaN         96.0  \n",
       "...                       ...         ...          ...  \n",
       "1844958                   NaN       272.0          NaN  \n",
       "1845021                   NaN       404.0          NaN  \n",
       "1845455                   NaN       312.0          NaN  \n",
       "1848231                   NaN       112.0          NaN  \n",
       "1849784                   NaN       144.0          NaN  \n",
       "\n",
       "[1246 rows x 22 columns]"
      ]
     },
     "execution_count": 35,
     "metadata": {},
     "output_type": "execute_result"
    }
   ],
   "source": [
    "books_df[books_df.Name.str.contains('Ready')]"
   ]
  },
  {
   "cell_type": "code",
   "execution_count": 28,
   "metadata": {},
   "outputs": [
    {
     "data": {
      "text/plain": [
       "<AxesSubplot:>"
      ]
     },
     "execution_count": 28,
     "metadata": {},
     "output_type": "execute_result"
    },
    {
     "data": {
      "image/png": "[encoded data removed]",
      "text/plain": [
       "<Figure size 432x288 with 1 Axes>"
      ]
     },
     "metadata": {
      "needs_background": "light"
     },
     "output_type": "display_data"
    }
   ],
   "source": [
    "books_df.PublishYear.hist()"
   ]
  },
  {
   "cell_type": "code",
   "execution_count": 6,
   "metadata": {},
   "outputs": [
    {
     "name": "stdout",
     "output_type": "stream",
     "text": [
      "G:/BIG DATA/Recommender System Udacity/books 2\\user_rating_0_to_1000.csv\n",
      "51945\n",
      "G:/BIG DATA/Recommender System Udacity/books 2\\user_rating_1000_to_2000.csv\n",
      "94931\n",
      "G:/BIG DATA/Recommender System Udacity/books 2\\user_rating_2000_to_3000.csv\n",
      "125564\n",
      "G:/BIG DATA/Recommender System Udacity/books 2\\user_rating_3000_to_4000.csv\n",
      "172534\n",
      "G:/BIG DATA/Recommender System Udacity/books 2\\user_rating_4000_to_5000.csv\n",
      "219437\n",
      "G:/BIG DATA/Recommender System Udacity/books 2\\user_rating_5000_to_6000.csv\n",
      "234918\n",
      "G:/BIG DATA/Recommender System Udacity/books 2\\user_rating_6000_to_11000.csv\n"
     ]
    }
   ],
   "source": [
    "user_df = pd.DataFrame()\n",
    "import os\n",
    "for i in range(0,6000,1000):\n",
    "    path = os.path.join('G:/BIG DATA/Recommender System Udacity/books 2', \n",
    "                        f'user_rating_{i}_to_{i+1000}.csv')\n",
    "    print(path)\n",
    "    user_df = user_df.append(pd.read_csv(path))\n",
    "    print(len(user_df))\n",
    "    \n",
    "\n",
    "    \n",
    "path = os.path.join('G:/BIG DATA/Recommender System Udacity/books 2', \n",
    "                        f'user_rating_6000_to_11000.csv')\n",
    "print(path)\n",
    "user_df = user_df.append(pd.read_csv(path))"
   ]
  },
  {
   "cell_type": "code",
   "execution_count": 7,
   "metadata": {},
   "outputs": [],
   "source": [
    "user_df.to_csv('ratings.csv')"
   ]
  },
  {
   "cell_type": "markdown",
   "metadata": {},
   "source": [
    "## Load from here user_df"
   ]
  },
  {
   "cell_type": "code",
   "execution_count": 9,
   "metadata": {},
   "outputs": [],
   "source": [
    "import pandas as pd"
   ]
  },
  {
   "cell_type": "code",
   "execution_count": 10,
   "metadata": {},
   "outputs": [],
   "source": [
    "user_df = pd.read_csv('ratings.csv', index_col=0)"
   ]
  },
  {
   "cell_type": "code",
   "execution_count": 11,
   "metadata": {},
   "outputs": [
    {
     "data": {
      "text/plain": [
       "362596"
      ]
     },
     "execution_count": 11,
     "metadata": {},
     "output_type": "execute_result"
    }
   ],
   "source": [
    "len(user_df)"
   ]
  },
  {
   "cell_type": "code",
   "execution_count": 12,
   "metadata": {},
   "outputs": [
    {
     "name": "stdout",
     "output_type": "stream",
     "text": [
      "103533\n",
      "8919\n",
      "['it was amazing' 'really liked it' 'liked it' 'did not like it'\n",
      " 'it was ok' \"This user doesn't have any rating\"]\n"
     ]
    }
   ],
   "source": [
    "print(user_df.Name.nunique())\n",
    "print(user_df.ID.nunique())\n",
    "print(user_df.Rating.unique())"
   ]
  },
  {
   "cell_type": "code",
   "execution_count": 13,
   "metadata": {},
   "outputs": [],
   "source": [
    "n_items = user_df.Name.nunique()"
   ]
  },
  {
   "cell_type": "code",
   "execution_count": 14,
   "metadata": {},
   "outputs": [],
   "source": [
    "\n",
    "\n",
    "rating_map = {\"This user doesn't have any rating\": 0,\n",
    "              \"did not like it\": 1, \n",
    "              \"it was ok\": 2, \n",
    "              \"liked it\": 3, \n",
    "              \"really liked it\":4, \n",
    "              \"it was amazing\" : 5}\n",
    "\n",
    "user_df['Rating'] = user_df['Rating'].map(rating_map)"
   ]
  },
  {
   "cell_type": "code",
   "execution_count": 15,
   "metadata": {},
   "outputs": [],
   "source": [
    "user_df = user_df[user_df['Rating']!=0]"
   ]
  },
  {
   "cell_type": "code",
   "execution_count": 16,
   "metadata": {},
   "outputs": [
    {
     "data": {
      "text/plain": [
       "103532"
      ]
     },
     "execution_count": 16,
     "metadata": {},
     "output_type": "execute_result"
    }
   ],
   "source": [
    "user_df.Name.nunique()"
   ]
  },
  {
   "cell_type": "code",
   "execution_count": 17,
   "metadata": {},
   "outputs": [
    {
     "data": {
      "text/plain": [
       "4154"
      ]
     },
     "execution_count": 17,
     "metadata": {},
     "output_type": "execute_result"
    }
   ],
   "source": [
    "user_df.ID.nunique()"
   ]
  },
  {
   "cell_type": "code",
   "execution_count": 31,
   "metadata": {},
   "outputs": [
    {
     "data": {
      "text/plain": [
       "357831"
      ]
     },
     "execution_count": 31,
     "metadata": {},
     "output_type": "execute_result"
    }
   ],
   "source": [
    "len(user_df)"
   ]
  },
  {
   "cell_type": "markdown",
   "metadata": {},
   "source": [
    "## EDA"
   ]
  },
  {
   "cell_type": "code",
   "execution_count": 41,
   "metadata": {},
   "outputs": [
    {
     "data": {
      "text/plain": [
       "(array([     0.,  20000.,  40000.,  60000.,  80000., 100000., 120000.,\n",
       "        140000.]),\n",
       " [Text(0, 0, ''),\n",
       "  Text(0, 0, ''),\n",
       "  Text(0, 0, ''),\n",
       "  Text(0, 0, ''),\n",
       "  Text(0, 0, ''),\n",
       "  Text(0, 0, ''),\n",
       "  Text(0, 0, ''),\n",
       "  Text(0, 0, '')])"
      ]
     },
     "execution_count": 41,
     "metadata": {},
     "output_type": "execute_result"
    },
    {
     "data": {
      "image/png": "[encoded data removed]",
      "text/plain": [
       "<Figure size 936x576 with 1 Axes>"
      ]
     },
     "metadata": {
      "needs_background": "light"
     },
     "output_type": "display_data"
    }
   ],
   "source": [
    "import matplotlib.pyplot as plt\n",
    "user_df.ratings.hist(bins=50, figsize=(13, 8))\n",
    "plt.xlabel('Number of ratings', size=13)\n",
    "plt.ylabel('Counts', size=13)\n",
    "plt.xticks(size=11)\n",
    "plt.yticks(size=11)"
   ]
  },
  {
   "cell_type": "code",
   "execution_count": 65,
   "metadata": {},
   "outputs": [
    {
     "data": {
      "text/plain": [
       "[]"
      ]
     },
     "execution_count": 65,
     "metadata": {},
     "output_type": "execute_result"
    },
    {
     "data": {
      "image/png": "[encoded data removed]",
      "text/plain": [
       "<Figure size 936x576 with 1 Axes>"
      ]
     },
     "metadata": {
      "needs_background": "light"
     },
     "output_type": "display_data"
    }
   ],
   "source": [
    "user_df.groupby('item_des').count()['ratings'].hist(bins=30, figsize=(13, 8))\n",
    "plt.xlabel('Histogram of number of ratings for the items', size=13)\n",
    "plt.ylabel('Counts', size=13)\n",
    "plt.xticks(size=11)\n",
    "plt.yticks(size=11)\n",
    "plt.semilogy()"
   ]
  },
  {
   "cell_type": "code",
   "execution_count": 66,
   "metadata": {},
   "outputs": [
    {
     "data": {
      "text/plain": [
       "[]"
      ]
     },
     "execution_count": 66,
     "metadata": {},
     "output_type": "execute_result"
    },
    {
     "data": {
      "image/png": "[encoded data removed]",
      "text/plain": [
       "<Figure size 936x576 with 1 Axes>"
      ]
     },
     "metadata": {
      "needs_background": "light"
     },
     "output_type": "display_data"
    }
   ],
   "source": [
    "user_df.groupby('user_id').count()['ratings'].hist(bins=30, figsize=(13, 8))\n",
    "plt.xlabel('Histogram of number of ratings by user', size=13)\n",
    "plt.ylabel('Counts', size=13)\n",
    "plt.xticks(size=11)\n",
    "plt.yticks(size=11)\n",
    "plt.semilogy()"
   ]
  },
  {
   "cell_type": "code",
   "execution_count": 48,
   "metadata": {},
   "outputs": [
    {
     "data": {
      "text/plain": [
       "(array([    0.,  5000., 10000., 15000., 20000., 25000., 30000., 35000.]),\n",
       " [Text(0, 0, ''),\n",
       "  Text(0, 0, ''),\n",
       "  Text(0, 0, ''),\n",
       "  Text(0, 0, ''),\n",
       "  Text(0, 0, ''),\n",
       "  Text(0, 0, ''),\n",
       "  Text(0, 0, ''),\n",
       "  Text(0, 0, '')])"
      ]
     },
     "execution_count": 48,
     "metadata": {},
     "output_type": "execute_result"
    },
    {
     "data": {
      "image/png": "[encoded data removed]",
      "text/plain": [
       "<Figure size 936x576 with 1 Axes>"
      ]
     },
     "metadata": {
      "needs_background": "light"
     },
     "output_type": "display_data"
    }
   ],
   "source": [
    "user_df.groupby('item_des').mean()['ratings'].hist(bins=20, figsize=(13, 8))\n",
    "plt.xlabel('Average rating for items', size=13)\n",
    "plt.ylabel('Counts', size=13)\n",
    "plt.xticks(size=11)\n",
    "plt.yticks(size=11)"
   ]
  },
  {
   "cell_type": "code",
   "execution_count": 49,
   "metadata": {},
   "outputs": [
    {
     "data": {
      "text/plain": [
       "(array([  0., 100., 200., 300., 400., 500., 600., 700., 800., 900.]),\n",
       " [Text(0, 0, ''),\n",
       "  Text(0, 0, ''),\n",
       "  Text(0, 0, ''),\n",
       "  Text(0, 0, ''),\n",
       "  Text(0, 0, ''),\n",
       "  Text(0, 0, ''),\n",
       "  Text(0, 0, ''),\n",
       "  Text(0, 0, ''),\n",
       "  Text(0, 0, ''),\n",
       "  Text(0, 0, '')])"
      ]
     },
     "execution_count": 49,
     "metadata": {},
     "output_type": "execute_result"
    },
    {
     "data": {
      "image/png": "[encoded data removed]",
      "text/plain": [
       "<Figure size 936x576 with 1 Axes>"
      ]
     },
     "metadata": {
      "needs_background": "light"
     },
     "output_type": "display_data"
    }
   ],
   "source": [
    "user_df.groupby('user_id').mean()['ratings'].hist(bins=20, figsize=(13, 8))\n",
    "plt.xlabel('Average rating for users', size=13)\n",
    "plt.ylabel('Counts', size=13)\n",
    "plt.xticks(size=11)\n",
    "plt.yticks(size=11)"
   ]
  },
  {
   "cell_type": "code",
   "execution_count": null,
   "metadata": {},
   "outputs": [],
   "source": []
  }
 ],
 "metadata": {
  "kernelspec": {
   "display_name": "Python 3",
   "language": "python",
   "name": "python3"
  },
  "language_info": {
   "codemirror_mode": {
    "name": "ipython",
    "version": 3
   },
   "file_extension": ".py",
   "mimetype": "text/x-python",
   "name": "python",
   "nbconvert_exporter": "python",
   "pygments_lexer": "ipython3",
   "version": "3.8.5"
  }
 },
 "nbformat": 4,
 "nbformat_minor": 4
}
