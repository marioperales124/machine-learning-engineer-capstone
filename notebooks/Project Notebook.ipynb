{
 "cells": [
  {
   "cell_type": "code",
   "execution_count": 44,
   "metadata": {},
   "outputs": [],
   "source": [
    "import sys\n",
    "sys.path.append('..')\n",
    "import numpy as np"
   ]
  },
  {
   "cell_type": "markdown",
   "metadata": {},
   "source": [
    "Just in case importing surprise does not work"
   ]
  },
  {
   "cell_type": "code",
   "execution_count": null,
   "metadata": {},
   "outputs": [],
   "source": [
    "!pip install surprise"
   ]
  },
  {
   "cell_type": "code",
   "execution_count": 2,
   "metadata": {},
   "outputs": [],
   "source": [
    "from src.transform_data.input_books import BooksReader\n",
    "from src.transform_data.input_interactions import InteractionsReader\n",
    "from src.transform_data.rating import Rating\n",
    "from src.transform_data.author_preparation import AuthorPreparation\n",
    "from src.transform_data.books_authors import BookAuthors"
   ]
  },
  {
   "cell_type": "code",
   "execution_count": 56,
   "metadata": {},
   "outputs": [],
   "source": [
    "from surprise.prediction_algorithms.matrix_factorization import SVD\n",
    "from surprise.model_selection import cross_validate\n",
    "from surprise.model_selection import KFold\n",
    "from surprise import accuracy\n",
    "from surprise.model_selection.search import GridSearchCV"
   ]
  },
  {
   "cell_type": "markdown",
   "metadata": {},
   "source": [
    "## ETL for books and interactions"
   ]
  },
  {
   "cell_type": "code",
   "execution_count": 4,
   "metadata": {},
   "outputs": [],
   "source": [
    "books_df = BooksReader().get_data()"
   ]
  },
  {
   "cell_type": "code",
   "execution_count": 5,
   "metadata": {},
   "outputs": [],
   "source": [
    "interactions_df = InteractionsReader().get_data()"
   ]
  },
  {
   "cell_type": "code",
   "execution_count": 6,
   "metadata": {},
   "outputs": [
    {
     "data": {
      "text/html": [
       "<div>\n",
       "<style scoped>\n",
       "    .dataframe tbody tr th:only-of-type {\n",
       "        vertical-align: middle;\n",
       "    }\n",
       "\n",
       "    .dataframe tbody tr th {\n",
       "        vertical-align: top;\n",
       "    }\n",
       "\n",
       "    .dataframe thead th {\n",
       "        text-align: right;\n",
       "    }\n",
       "</style>\n",
       "<table border=\"1\" class=\"dataframe\">\n",
       "  <thead>\n",
       "    <tr style=\"text-align: right;\">\n",
       "      <th></th>\n",
       "      <th>user_id</th>\n",
       "      <th>item_des</th>\n",
       "      <th>ratings</th>\n",
       "    </tr>\n",
       "  </thead>\n",
       "  <tbody>\n",
       "    <tr>\n",
       "      <th>0</th>\n",
       "      <td>1</td>\n",
       "      <td>Agile Web Development with Rails: A Pragmatic ...</td>\n",
       "      <td>5</td>\n",
       "    </tr>\n",
       "    <tr>\n",
       "      <th>1</th>\n",
       "      <td>1</td>\n",
       "      <td>The Restaurant at the End of the Universe (Hit...</td>\n",
       "      <td>5</td>\n",
       "    </tr>\n",
       "    <tr>\n",
       "      <th>2</th>\n",
       "      <td>1</td>\n",
       "      <td>Siddhartha</td>\n",
       "      <td>5</td>\n",
       "    </tr>\n",
       "    <tr>\n",
       "      <th>3</th>\n",
       "      <td>1</td>\n",
       "      <td>The Clock of the Long Now: Time and Responsibi...</td>\n",
       "      <td>4</td>\n",
       "    </tr>\n",
       "    <tr>\n",
       "      <th>4</th>\n",
       "      <td>1</td>\n",
       "      <td>Ready Player One (Ready Player One, #1)</td>\n",
       "      <td>4</td>\n",
       "    </tr>\n",
       "    <tr>\n",
       "      <th>...</th>\n",
       "      <td>...</td>\n",
       "      <td>...</td>\n",
       "      <td>...</td>\n",
       "    </tr>\n",
       "    <tr>\n",
       "      <th>127673</th>\n",
       "      <td>10978</td>\n",
       "      <td>The Foundation: A Great American Secret: How P...</td>\n",
       "      <td>3</td>\n",
       "    </tr>\n",
       "    <tr>\n",
       "      <th>127674</th>\n",
       "      <td>10986</td>\n",
       "      <td>Cosette: The Sequel to Les Miserables</td>\n",
       "      <td>4</td>\n",
       "    </tr>\n",
       "    <tr>\n",
       "      <th>127675</th>\n",
       "      <td>10986</td>\n",
       "      <td>J. D. Salinger's The Catcher in the Rye</td>\n",
       "      <td>5</td>\n",
       "    </tr>\n",
       "    <tr>\n",
       "      <th>127676</th>\n",
       "      <td>10988</td>\n",
       "      <td>Facing the Lion: Growing Up Maasai on the Afri...</td>\n",
       "      <td>3</td>\n",
       "    </tr>\n",
       "    <tr>\n",
       "      <th>127677</th>\n",
       "      <td>10988</td>\n",
       "      <td>Homeless Bird</td>\n",
       "      <td>3</td>\n",
       "    </tr>\n",
       "  </tbody>\n",
       "</table>\n",
       "<p>362596 rows × 3 columns</p>\n",
       "</div>"
      ],
      "text/plain": [
       "        user_id                                           item_des  ratings\n",
       "0             1  Agile Web Development with Rails: A Pragmatic ...        5\n",
       "1             1  The Restaurant at the End of the Universe (Hit...        5\n",
       "2             1                                         Siddhartha        5\n",
       "3             1  The Clock of the Long Now: Time and Responsibi...        4\n",
       "4             1            Ready Player One (Ready Player One, #1)        4\n",
       "...         ...                                                ...      ...\n",
       "127673    10978  The Foundation: A Great American Secret: How P...        3\n",
       "127674    10986              Cosette: The Sequel to Les Miserables        4\n",
       "127675    10986            J. D. Salinger's The Catcher in the Rye        5\n",
       "127676    10988  Facing the Lion: Growing Up Maasai on the Afri...        3\n",
       "127677    10988                                      Homeless Bird        3\n",
       "\n",
       "[362596 rows x 3 columns]"
      ]
     },
     "execution_count": 6,
     "metadata": {},
     "output_type": "execute_result"
    }
   ],
   "source": [
    "interactions_df"
   ]
  },
  {
   "cell_type": "markdown",
   "metadata": {},
   "source": [
    "## Exploratory Data Analysis"
   ]
  },
  {
   "cell_type": "code",
   "execution_count": 7,
   "metadata": {},
   "outputs": [
    {
     "data": {
      "text/html": [
       "<div>\n",
       "<style scoped>\n",
       "    .dataframe tbody tr th:only-of-type {\n",
       "        vertical-align: middle;\n",
       "    }\n",
       "\n",
       "    .dataframe tbody tr th {\n",
       "        vertical-align: top;\n",
       "    }\n",
       "\n",
       "    .dataframe thead th {\n",
       "        text-align: right;\n",
       "    }\n",
       "</style>\n",
       "<table border=\"1\" class=\"dataframe\">\n",
       "  <thead>\n",
       "    <tr style=\"text-align: right;\">\n",
       "      <th></th>\n",
       "      <th>Id</th>\n",
       "      <th>Name</th>\n",
       "      <th>RatingDist1</th>\n",
       "      <th>pagesNumber</th>\n",
       "      <th>RatingDist4</th>\n",
       "      <th>RatingDistTotal</th>\n",
       "      <th>PublishMonth</th>\n",
       "      <th>PublishDay</th>\n",
       "      <th>Publisher</th>\n",
       "      <th>CountsOfReview</th>\n",
       "      <th>...</th>\n",
       "      <th>Language</th>\n",
       "      <th>Authors</th>\n",
       "      <th>Rating</th>\n",
       "      <th>RatingDist2</th>\n",
       "      <th>RatingDist5</th>\n",
       "      <th>ISBN</th>\n",
       "      <th>RatingDist3</th>\n",
       "      <th>Description</th>\n",
       "      <th>Count of text reviews</th>\n",
       "      <th>PagesNumber</th>\n",
       "    </tr>\n",
       "  </thead>\n",
       "  <tbody>\n",
       "    <tr>\n",
       "      <th>0</th>\n",
       "      <td>1</td>\n",
       "      <td>Harry Potter and the Half-Blood Prince (Harry ...</td>\n",
       "      <td>1:9896</td>\n",
       "      <td>652.0</td>\n",
       "      <td>4:556485</td>\n",
       "      <td>total:2298124</td>\n",
       "      <td>16</td>\n",
       "      <td>9</td>\n",
       "      <td>Scholastic Inc.</td>\n",
       "      <td>28062</td>\n",
       "      <td>...</td>\n",
       "      <td>eng</td>\n",
       "      <td>J.K. Rowling</td>\n",
       "      <td>4.57</td>\n",
       "      <td>2:25317</td>\n",
       "      <td>5:1546466</td>\n",
       "      <td>NaN</td>\n",
       "      <td>3:159960</td>\n",
       "      <td>NaN</td>\n",
       "      <td>NaN</td>\n",
       "      <td>NaN</td>\n",
       "    </tr>\n",
       "    <tr>\n",
       "      <th>1</th>\n",
       "      <td>2</td>\n",
       "      <td>Harry Potter and the Order of the Phoenix (Har...</td>\n",
       "      <td>1:12455</td>\n",
       "      <td>870.0</td>\n",
       "      <td>4:604283</td>\n",
       "      <td>total:2358637</td>\n",
       "      <td>1</td>\n",
       "      <td>9</td>\n",
       "      <td>Scholastic Inc.</td>\n",
       "      <td>29770</td>\n",
       "      <td>...</td>\n",
       "      <td>eng</td>\n",
       "      <td>J.K. Rowling</td>\n",
       "      <td>4.50</td>\n",
       "      <td>2:37005</td>\n",
       "      <td>5:1493113</td>\n",
       "      <td>0439358078</td>\n",
       "      <td>3:211781</td>\n",
       "      <td>NaN</td>\n",
       "      <td>NaN</td>\n",
       "      <td>NaN</td>\n",
       "    </tr>\n",
       "    <tr>\n",
       "      <th>2</th>\n",
       "      <td>3</td>\n",
       "      <td>Harry Potter and the Sorcerer's Stone (Harry P...</td>\n",
       "      <td>1:108202</td>\n",
       "      <td>309.0</td>\n",
       "      <td>4:1513191</td>\n",
       "      <td>total:6587388</td>\n",
       "      <td>1</td>\n",
       "      <td>11</td>\n",
       "      <td>Scholastic Inc</td>\n",
       "      <td>75911</td>\n",
       "      <td>...</td>\n",
       "      <td>eng</td>\n",
       "      <td>J.K. Rowling</td>\n",
       "      <td>4.47</td>\n",
       "      <td>2:130310</td>\n",
       "      <td>5:4268227</td>\n",
       "      <td>NaN</td>\n",
       "      <td>3:567458</td>\n",
       "      <td>NaN</td>\n",
       "      <td>NaN</td>\n",
       "      <td>NaN</td>\n",
       "    </tr>\n",
       "    <tr>\n",
       "      <th>3</th>\n",
       "      <td>4</td>\n",
       "      <td>Harry Potter and the Chamber of Secrets (Harry...</td>\n",
       "      <td>1:11896</td>\n",
       "      <td>352.0</td>\n",
       "      <td>4:706082</td>\n",
       "      <td>total:2560657</td>\n",
       "      <td>1</td>\n",
       "      <td>11</td>\n",
       "      <td>Scholastic</td>\n",
       "      <td>244</td>\n",
       "      <td>...</td>\n",
       "      <td>eng</td>\n",
       "      <td>J.K. Rowling</td>\n",
       "      <td>4.42</td>\n",
       "      <td>2:49353</td>\n",
       "      <td>5:1504505</td>\n",
       "      <td>0439554896</td>\n",
       "      <td>3:288821</td>\n",
       "      <td>NaN</td>\n",
       "      <td>NaN</td>\n",
       "      <td>NaN</td>\n",
       "    </tr>\n",
       "    <tr>\n",
       "      <th>4</th>\n",
       "      <td>5</td>\n",
       "      <td>Harry Potter and the Prisoner of Azkaban (Harr...</td>\n",
       "      <td>1:10128</td>\n",
       "      <td>435.0</td>\n",
       "      <td>4:630534</td>\n",
       "      <td>total:2610317</td>\n",
       "      <td>1</td>\n",
       "      <td>5</td>\n",
       "      <td>Scholastic Inc.</td>\n",
       "      <td>37093</td>\n",
       "      <td>...</td>\n",
       "      <td>eng</td>\n",
       "      <td>J.K. Rowling</td>\n",
       "      <td>4.57</td>\n",
       "      <td>2:24849</td>\n",
       "      <td>5:1749958</td>\n",
       "      <td>043965548X</td>\n",
       "      <td>3:194848</td>\n",
       "      <td>NaN</td>\n",
       "      <td>NaN</td>\n",
       "      <td>NaN</td>\n",
       "    </tr>\n",
       "    <tr>\n",
       "      <th>...</th>\n",
       "      <td>...</td>\n",
       "      <td>...</td>\n",
       "      <td>...</td>\n",
       "      <td>...</td>\n",
       "      <td>...</td>\n",
       "      <td>...</td>\n",
       "      <td>...</td>\n",
       "      <td>...</td>\n",
       "      <td>...</td>\n",
       "      <td>...</td>\n",
       "      <td>...</td>\n",
       "      <td>...</td>\n",
       "      <td>...</td>\n",
       "      <td>...</td>\n",
       "      <td>...</td>\n",
       "      <td>...</td>\n",
       "      <td>...</td>\n",
       "      <td>...</td>\n",
       "      <td>...</td>\n",
       "      <td>...</td>\n",
       "      <td>...</td>\n",
       "    </tr>\n",
       "    <tr>\n",
       "      <th>256590</th>\n",
       "      <td>3724824</td>\n",
       "      <td>Assessment Case Studies: Common Issues in Impl...</td>\n",
       "      <td>1:0</td>\n",
       "      <td>NaN</td>\n",
       "      <td>4:0</td>\n",
       "      <td>total:0</td>\n",
       "      <td>1</td>\n",
       "      <td>1</td>\n",
       "      <td>Agathon Press</td>\n",
       "      <td>0</td>\n",
       "      <td>...</td>\n",
       "      <td>NaN</td>\n",
       "      <td>James O. Nichols</td>\n",
       "      <td>0.00</td>\n",
       "      <td>2:0</td>\n",
       "      <td>5:0</td>\n",
       "      <td>0875861121</td>\n",
       "      <td>3:0</td>\n",
       "      <td>NaN</td>\n",
       "      <td>NaN</td>\n",
       "      <td>212.0</td>\n",
       "    </tr>\n",
       "    <tr>\n",
       "      <th>256591</th>\n",
       "      <td>3724826</td>\n",
       "      <td>Order In The Twilight</td>\n",
       "      <td>1:0</td>\n",
       "      <td>NaN</td>\n",
       "      <td>4:1</td>\n",
       "      <td>total:1</td>\n",
       "      <td>12</td>\n",
       "      <td>31</td>\n",
       "      <td>Ohio University Press</td>\n",
       "      <td>0</td>\n",
       "      <td>...</td>\n",
       "      <td>NaN</td>\n",
       "      <td>Bernhard Waldenfels</td>\n",
       "      <td>4.00</td>\n",
       "      <td>2:0</td>\n",
       "      <td>5:0</td>\n",
       "      <td>0821411683</td>\n",
       "      <td>3:0</td>\n",
       "      <td>&lt;i&gt;“Whoever distrusts the barking of watchdogs...</td>\n",
       "      <td>NaN</td>\n",
       "      <td>181.0</td>\n",
       "    </tr>\n",
       "    <tr>\n",
       "      <th>256592</th>\n",
       "      <td>3724827</td>\n",
       "      <td>Rodale's Complete Home Products Manual: The Be...</td>\n",
       "      <td>1:0</td>\n",
       "      <td>NaN</td>\n",
       "      <td>4:0</td>\n",
       "      <td>total:0</td>\n",
       "      <td>12</td>\n",
       "      <td>31</td>\n",
       "      <td>Rodale Press</td>\n",
       "      <td>0</td>\n",
       "      <td>...</td>\n",
       "      <td>NaN</td>\n",
       "      <td>Rodale Press</td>\n",
       "      <td>0.00</td>\n",
       "      <td>2:0</td>\n",
       "      <td>5:0</td>\n",
       "      <td>0878577971</td>\n",
       "      <td>3:0</td>\n",
       "      <td>NaN</td>\n",
       "      <td>NaN</td>\n",
       "      <td>354.0</td>\n",
       "    </tr>\n",
       "    <tr>\n",
       "      <th>256593</th>\n",
       "      <td>3724833</td>\n",
       "      <td>Doing Business in Arizona: A Legal Guide</td>\n",
       "      <td>1:0</td>\n",
       "      <td>NaN</td>\n",
       "      <td>4:0</td>\n",
       "      <td>total:0</td>\n",
       "      <td>3</td>\n",
       "      <td>1</td>\n",
       "      <td>University of Arizona Press</td>\n",
       "      <td>0</td>\n",
       "      <td>...</td>\n",
       "      <td>NaN</td>\n",
       "      <td>Snell &amp; Wilmer Associates</td>\n",
       "      <td>0.00</td>\n",
       "      <td>2:0</td>\n",
       "      <td>5:0</td>\n",
       "      <td>0816518890</td>\n",
       "      <td>3:0</td>\n",
       "      <td>&lt;b&gt;&lt;i&gt;Doing Business in Arizona&lt;/i&gt; brings tog...</td>\n",
       "      <td>NaN</td>\n",
       "      <td>330.0</td>\n",
       "    </tr>\n",
       "    <tr>\n",
       "      <th>256594</th>\n",
       "      <td>3724836</td>\n",
       "      <td>Mennonite Identity in Conflict</td>\n",
       "      <td>1:0</td>\n",
       "      <td>NaN</td>\n",
       "      <td>4:0</td>\n",
       "      <td>total:0</td>\n",
       "      <td>12</td>\n",
       "      <td>31</td>\n",
       "      <td>Edwin Mellen Press</td>\n",
       "      <td>0</td>\n",
       "      <td>...</td>\n",
       "      <td>NaN</td>\n",
       "      <td>Leo Driedger</td>\n",
       "      <td>0.00</td>\n",
       "      <td>2:0</td>\n",
       "      <td>5:0</td>\n",
       "      <td>0889468559</td>\n",
       "      <td>3:0</td>\n",
       "      <td>Mennonites still comprise one of the most mark...</td>\n",
       "      <td>NaN</td>\n",
       "      <td>237.0</td>\n",
       "    </tr>\n",
       "  </tbody>\n",
       "</table>\n",
       "<p>1570054 rows × 21 columns</p>\n",
       "</div>"
      ],
      "text/plain": [
       "             Id                                               Name  \\\n",
       "0             1  Harry Potter and the Half-Blood Prince (Harry ...   \n",
       "1             2  Harry Potter and the Order of the Phoenix (Har...   \n",
       "2             3  Harry Potter and the Sorcerer's Stone (Harry P...   \n",
       "3             4  Harry Potter and the Chamber of Secrets (Harry...   \n",
       "4             5  Harry Potter and the Prisoner of Azkaban (Harr...   \n",
       "...         ...                                                ...   \n",
       "256590  3724824  Assessment Case Studies: Common Issues in Impl...   \n",
       "256591  3724826                              Order In The Twilight   \n",
       "256592  3724827  Rodale's Complete Home Products Manual: The Be...   \n",
       "256593  3724833           Doing Business in Arizona: A Legal Guide   \n",
       "256594  3724836                     Mennonite Identity in Conflict   \n",
       "\n",
       "       RatingDist1  pagesNumber RatingDist4 RatingDistTotal  PublishMonth  \\\n",
       "0           1:9896        652.0    4:556485   total:2298124            16   \n",
       "1          1:12455        870.0    4:604283   total:2358637             1   \n",
       "2         1:108202        309.0   4:1513191   total:6587388             1   \n",
       "3          1:11896        352.0    4:706082   total:2560657             1   \n",
       "4          1:10128        435.0    4:630534   total:2610317             1   \n",
       "...            ...          ...         ...             ...           ...   \n",
       "256590         1:0          NaN         4:0         total:0             1   \n",
       "256591         1:0          NaN         4:1         total:1            12   \n",
       "256592         1:0          NaN         4:0         total:0            12   \n",
       "256593         1:0          NaN         4:0         total:0             3   \n",
       "256594         1:0          NaN         4:0         total:0            12   \n",
       "\n",
       "        PublishDay                    Publisher  CountsOfReview  ...  \\\n",
       "0                9              Scholastic Inc.           28062  ...   \n",
       "1                9              Scholastic Inc.           29770  ...   \n",
       "2               11               Scholastic Inc           75911  ...   \n",
       "3               11                   Scholastic             244  ...   \n",
       "4                5              Scholastic Inc.           37093  ...   \n",
       "...            ...                          ...             ...  ...   \n",
       "256590           1                Agathon Press               0  ...   \n",
       "256591          31        Ohio University Press               0  ...   \n",
       "256592          31                 Rodale Press               0  ...   \n",
       "256593           1  University of Arizona Press               0  ...   \n",
       "256594          31           Edwin Mellen Press               0  ...   \n",
       "\n",
       "        Language                    Authors Rating  RatingDist2 RatingDist5  \\\n",
       "0            eng               J.K. Rowling   4.57      2:25317   5:1546466   \n",
       "1            eng               J.K. Rowling   4.50      2:37005   5:1493113   \n",
       "2            eng               J.K. Rowling   4.47     2:130310   5:4268227   \n",
       "3            eng               J.K. Rowling   4.42      2:49353   5:1504505   \n",
       "4            eng               J.K. Rowling   4.57      2:24849   5:1749958   \n",
       "...          ...                        ...    ...          ...         ...   \n",
       "256590       NaN           James O. Nichols   0.00          2:0         5:0   \n",
       "256591       NaN        Bernhard Waldenfels   4.00          2:0         5:0   \n",
       "256592       NaN               Rodale Press   0.00          2:0         5:0   \n",
       "256593       NaN  Snell & Wilmer Associates   0.00          2:0         5:0   \n",
       "256594       NaN               Leo Driedger   0.00          2:0         5:0   \n",
       "\n",
       "              ISBN RatingDist3  \\\n",
       "0              NaN    3:159960   \n",
       "1       0439358078    3:211781   \n",
       "2              NaN    3:567458   \n",
       "3       0439554896    3:288821   \n",
       "4       043965548X    3:194848   \n",
       "...            ...         ...   \n",
       "256590  0875861121         3:0   \n",
       "256591  0821411683         3:0   \n",
       "256592  0878577971         3:0   \n",
       "256593  0816518890         3:0   \n",
       "256594  0889468559         3:0   \n",
       "\n",
       "                                              Description  \\\n",
       "0                                                     NaN   \n",
       "1                                                     NaN   \n",
       "2                                                     NaN   \n",
       "3                                                     NaN   \n",
       "4                                                     NaN   \n",
       "...                                                   ...   \n",
       "256590                                                NaN   \n",
       "256591  <i>“Whoever distrusts the barking of watchdogs...   \n",
       "256592                                                NaN   \n",
       "256593  <b><i>Doing Business in Arizona</i> brings tog...   \n",
       "256594  Mennonites still comprise one of the most mark...   \n",
       "\n",
       "       Count of text reviews  PagesNumber  \n",
       "0                        NaN          NaN  \n",
       "1                        NaN          NaN  \n",
       "2                        NaN          NaN  \n",
       "3                        NaN          NaN  \n",
       "4                        NaN          NaN  \n",
       "...                      ...          ...  \n",
       "256590                   NaN        212.0  \n",
       "256591                   NaN        181.0  \n",
       "256592                   NaN        354.0  \n",
       "256593                   NaN        330.0  \n",
       "256594                   NaN        237.0  \n",
       "\n",
       "[1570054 rows x 21 columns]"
      ]
     },
     "execution_count": 7,
     "metadata": {},
     "output_type": "execute_result"
    }
   ],
   "source": [
    "books_df"
   ]
  },
  {
   "cell_type": "markdown",
   "metadata": {},
   "source": [
    "### Basic counts"
   ]
  },
  {
   "cell_type": "code",
   "execution_count": 8,
   "metadata": {},
   "outputs": [
    {
     "name": "stdout",
     "output_type": "stream",
     "text": [
      "# books in books dataset 1390912\n",
      "# authors in books dataset 572126\n",
      "# authors in books dataset 572126\n",
      "# books in interactions dataset 103533\n",
      "# users in interactions dataset 8919\n",
      "Unique ratings in interactions dataset [5 4 3 1 2 0]\n",
      "# ratings that are not zero 357831\n"
     ]
    }
   ],
   "source": [
    "print(f'# books in books dataset {books_df.Name.nunique()}')\n",
    "print(f'# authors in books dataset {books_df.Authors.nunique()}')\n",
    "print(f'# authors in books dataset {books_df.Authors.nunique()}')\n",
    "\n",
    "print(f'# books in interactions dataset {interactions_df.item_des.nunique()}')\n",
    "print(f'# users in interactions dataset {interactions_df.user_id.nunique()}')\n",
    "print(f'Unique ratings in interactions dataset {interactions_df.ratings.unique()}')\n",
    "print(f'# ratings that are not zero {interactions_df[interactions_df.ratings!=0].count().iloc[0]}')\n"
   ]
  },
  {
   "cell_type": "code",
   "execution_count": 9,
   "metadata": {},
   "outputs": [],
   "source": [
    "interactions_df = interactions_df[interactions_df.ratings!=0]"
   ]
  },
  {
   "cell_type": "markdown",
   "metadata": {},
   "source": [
    "### Plots"
   ]
  },
  {
   "cell_type": "code",
   "execution_count": 10,
   "metadata": {},
   "outputs": [
    {
     "data": {
      "text/plain": [
       "(array([     0.,  20000.,  40000.,  60000.,  80000., 100000., 120000.,\n",
       "        140000.]),\n",
       " [Text(0, 0, ''),\n",
       "  Text(0, 0, ''),\n",
       "  Text(0, 0, ''),\n",
       "  Text(0, 0, ''),\n",
       "  Text(0, 0, ''),\n",
       "  Text(0, 0, ''),\n",
       "  Text(0, 0, ''),\n",
       "  Text(0, 0, '')])"
      ]
     },
     "execution_count": 10,
     "metadata": {},
     "output_type": "execute_result"
    },
    {
     "data": {
      "image/png": "[encoded data removed]",
      "text/plain": [
       "<Figure size 936x576 with 1 Axes>"
      ]
     },
     "metadata": {
      "needs_background": "light"
     },
     "output_type": "display_data"
    }
   ],
   "source": [
    "import matplotlib.pyplot as plt\n",
    "interactions_df.ratings.hist(bins=50, figsize=(13, 8))\n",
    "plt.xlabel('Number of ratings', size=13)\n",
    "plt.ylabel('Counts', size=13)\n",
    "plt.xticks(size=11)\n",
    "plt.yticks(size=11)"
   ]
  },
  {
   "cell_type": "code",
   "execution_count": 11,
   "metadata": {},
   "outputs": [
    {
     "data": {
      "text/plain": [
       "[]"
      ]
     },
     "execution_count": 11,
     "metadata": {},
     "output_type": "execute_result"
    },
    {
     "data": {
      "image/png": "[encoded data removed]",
      "text/plain": [
       "<Figure size 936x576 with 1 Axes>"
      ]
     },
     "metadata": {
      "needs_background": "light"
     },
     "output_type": "display_data"
    }
   ],
   "source": [
    "interactions_df.groupby('item_des').count()['ratings'].hist(bins=30, figsize=(13, 8))\n",
    "plt.xlabel('Histogram of number of ratings for the items', size=13)\n",
    "plt.ylabel('Counts', size=13)\n",
    "plt.xticks(size=11)\n",
    "plt.yticks(size=11)\n",
    "plt.semilogy()"
   ]
  },
  {
   "cell_type": "markdown",
   "metadata": {},
   "source": [
    "We can see that we have a lot of books with only one or two ratings. In normal circumstances, I would filter these books. However, the little amount of data prevents me from discarding this and I am going to keep this data due to the amount of data."
   ]
  },
  {
   "cell_type": "code",
   "execution_count": 12,
   "metadata": {},
   "outputs": [
    {
     "data": {
      "text/plain": [
       "[]"
      ]
     },
     "execution_count": 12,
     "metadata": {},
     "output_type": "execute_result"
    },
    {
     "data": {
      "image/png": "[encoded data removed]",
      "text/plain": [
       "<Figure size 936x576 with 1 Axes>"
      ]
     },
     "metadata": {
      "needs_background": "light"
     },
     "output_type": "display_data"
    }
   ],
   "source": [
    "interactions_df.groupby('user_id').count()['ratings'].hist(bins=30, figsize=(13, 8))\n",
    "plt.xlabel('Histogram of number of ratings by user', size=13)\n",
    "plt.ylabel('Counts', size=13)\n",
    "plt.xticks(size=11)\n",
    "plt.yticks(size=11)\n",
    "plt.semilogy()"
   ]
  },
  {
   "cell_type": "markdown",
   "metadata": {},
   "source": [
    "Here, the effect exists again. However, it seems not to be as sharp as the previous one, since we have only 4100 users and around 300K ratings."
   ]
  },
  {
   "cell_type": "code",
   "execution_count": 13,
   "metadata": {},
   "outputs": [
    {
     "data": {
      "text/plain": [
       "(array([    0.,  5000., 10000., 15000., 20000., 25000., 30000., 35000.]),\n",
       " [Text(0, 0, ''),\n",
       "  Text(0, 0, ''),\n",
       "  Text(0, 0, ''),\n",
       "  Text(0, 0, ''),\n",
       "  Text(0, 0, ''),\n",
       "  Text(0, 0, ''),\n",
       "  Text(0, 0, ''),\n",
       "  Text(0, 0, '')])"
      ]
     },
     "execution_count": 13,
     "metadata": {},
     "output_type": "execute_result"
    },
    {
     "data": {
      "image/png": "[encoded data removed]",
      "text/plain": [
       "<Figure size 936x576 with 1 Axes>"
      ]
     },
     "metadata": {
      "needs_background": "light"
     },
     "output_type": "display_data"
    }
   ],
   "source": [
    "interactions_df.groupby('item_des').mean()['ratings'].hist(bins=20, figsize=(13, 8))\n",
    "plt.xlabel('Average rating for items', size=13)\n",
    "plt.ylabel('Counts', size=13)\n",
    "plt.xticks(size=11)\n",
    "plt.yticks(size=11)"
   ]
  },
  {
   "cell_type": "code",
   "execution_count": 14,
   "metadata": {},
   "outputs": [
    {
     "data": {
      "text/plain": [
       "(array([  0., 100., 200., 300., 400., 500., 600., 700., 800., 900.]),\n",
       " [Text(0, 0, ''),\n",
       "  Text(0, 0, ''),\n",
       "  Text(0, 0, ''),\n",
       "  Text(0, 0, ''),\n",
       "  Text(0, 0, ''),\n",
       "  Text(0, 0, ''),\n",
       "  Text(0, 0, ''),\n",
       "  Text(0, 0, ''),\n",
       "  Text(0, 0, ''),\n",
       "  Text(0, 0, '')])"
      ]
     },
     "execution_count": 14,
     "metadata": {},
     "output_type": "execute_result"
    },
    {
     "data": {
      "image/png": "[encoded data removed]",
      "text/plain": [
       "<Figure size 936x576 with 1 Axes>"
      ]
     },
     "metadata": {
      "needs_background": "light"
     },
     "output_type": "display_data"
    }
   ],
   "source": [
    "interactions_df.groupby('user_id').mean()['ratings'].hist(bins=20, figsize=(13, 8))\n",
    "plt.xlabel('Average rating for users', size=13)\n",
    "plt.ylabel('Counts', size=13)\n",
    "plt.xticks(size=11)\n",
    "plt.yticks(size=11)"
   ]
  },
  {
   "cell_type": "markdown",
   "metadata": {},
   "source": [
    "It seems that most of the users really like what they read and rate. This could be a bias if people do not rate books that they do not like, but we cannot know this for sure.\n"
   ]
  },
  {
   "cell_type": "code",
   "execution_count": null,
   "metadata": {},
   "outputs": [],
   "source": []
  },
  {
   "cell_type": "markdown",
   "metadata": {},
   "source": [
    "## Models"
   ]
  },
  {
   "cell_type": "markdown",
   "metadata": {},
   "source": [
    "### Examples for first approach"
   ]
  },
  {
   "cell_type": "markdown",
   "metadata": {},
   "source": [
    "#### Example for Algorithm 1. Matrix Factorization\n",
    "\n",
    "A matrix factorization is a way of reducing a matrix into its constituent parts. It is an approach that can simplify more complex matrix operations that can be performed on the decomposed matrix rather than on the original matrix itself. More details in project document"
   ]
  },
  {
   "cell_type": "code",
   "execution_count": 15,
   "metadata": {},
   "outputs": [],
   "source": [
    "dataset_surprise_alg_1 = Rating(interactions_df).get_surprise_dataset()\n"
   ]
  },
  {
   "cell_type": "code",
   "execution_count": 30,
   "metadata": {},
   "outputs": [],
   "source": [
    "svd = SVD(n_factors=3, n_epochs=15)"
   ]
  },
  {
   "cell_type": "code",
   "execution_count": 31,
   "metadata": {},
   "outputs": [
    {
     "name": "stdout",
     "output_type": "stream",
     "text": [
      "Evaluating RMSE, MAE of algorithm SVD on 5 split(s).\n",
      "\n",
      "                  Fold 1  Fold 2  Fold 3  Fold 4  Fold 5  Mean    Std     \n",
      "RMSE (testset)    0.8838  0.8827  0.8845  0.8826  0.8817  0.8830  0.0010  \n",
      "MAE (testset)     0.7012  0.7009  0.7022  0.7015  0.7022  0.7016  0.0005  \n",
      "Fit time          12.16   9.01    10.54   12.26   10.79   10.95   1.19    \n",
      "Test time         1.97    3.23    1.15    2.66    1.18    2.04    0.82    \n"
     ]
    }
   ],
   "source": [
    "cross_validation = cross_validate(svd, dataset_surprise_alg_1, measures=['RMSE', 'MAE'], cv=5, verbose=True)"
   ]
  },
  {
   "cell_type": "code",
   "execution_count": 32,
   "metadata": {},
   "outputs": [
    {
     "data": {
      "text/plain": [
       "{'test_rmse': array([0.88375369, 0.88272823, 0.88449496, 0.88256576, 0.88169313]),\n",
       " 'test_mae': array([0.70122713, 0.70089963, 0.70219561, 0.70151885, 0.70215305]),\n",
       " 'fit_time': (12.164776802062988,\n",
       "  9.014293193817139,\n",
       "  10.537081241607666,\n",
       "  12.26034426689148,\n",
       "  10.792004346847534),\n",
       " 'test_time': (1.9659528732299805,\n",
       "  3.2344539165496826,\n",
       "  1.1461772918701172,\n",
       "  2.6629321575164795,\n",
       "  1.177682876586914)}"
      ]
     },
     "execution_count": 32,
     "metadata": {},
     "output_type": "execute_result"
    }
   ],
   "source": [
    "cross_validation"
   ]
  },
  {
   "cell_type": "markdown",
   "metadata": {},
   "source": [
    "#### Example for Algorithm 2. Combined matrix with Matrix Factorization\n",
    "\n",
    "For this algorithm, We want to introduce bias for A adding the author information. The way to do this is in the project document"
   ]
  },
  {
   "cell_type": "code",
   "execution_count": 17,
   "metadata": {},
   "outputs": [
    {
     "data": {
      "text/html": [
       "<div>\n",
       "<style scoped>\n",
       "    .dataframe tbody tr th:only-of-type {\n",
       "        vertical-align: middle;\n",
       "    }\n",
       "\n",
       "    .dataframe tbody tr th {\n",
       "        vertical-align: top;\n",
       "    }\n",
       "\n",
       "    .dataframe thead th {\n",
       "        text-align: right;\n",
       "    }\n",
       "</style>\n",
       "<table border=\"1\" class=\"dataframe\">\n",
       "  <thead>\n",
       "    <tr style=\"text-align: right;\">\n",
       "      <th></th>\n",
       "      <th>user_id</th>\n",
       "      <th>item_des</th>\n",
       "      <th>ratings</th>\n",
       "    </tr>\n",
       "  </thead>\n",
       "  <tbody>\n",
       "    <tr>\n",
       "      <th>0</th>\n",
       "      <td>1</td>\n",
       "      <td>Agile Web Development with Rails: A Pragmatic ...</td>\n",
       "      <td>5</td>\n",
       "    </tr>\n",
       "    <tr>\n",
       "      <th>1</th>\n",
       "      <td>1</td>\n",
       "      <td>The Restaurant at the End of the Universe (Hit...</td>\n",
       "      <td>5</td>\n",
       "    </tr>\n",
       "    <tr>\n",
       "      <th>2</th>\n",
       "      <td>1</td>\n",
       "      <td>Siddhartha</td>\n",
       "      <td>5</td>\n",
       "    </tr>\n",
       "    <tr>\n",
       "      <th>3</th>\n",
       "      <td>1</td>\n",
       "      <td>The Clock of the Long Now: Time and Responsibi...</td>\n",
       "      <td>4</td>\n",
       "    </tr>\n",
       "    <tr>\n",
       "      <th>4</th>\n",
       "      <td>1</td>\n",
       "      <td>Ready Player One (Ready Player One, #1)</td>\n",
       "      <td>4</td>\n",
       "    </tr>\n",
       "    <tr>\n",
       "      <th>...</th>\n",
       "      <td>...</td>\n",
       "      <td>...</td>\n",
       "      <td>...</td>\n",
       "    </tr>\n",
       "    <tr>\n",
       "      <th>127673</th>\n",
       "      <td>10978</td>\n",
       "      <td>The Foundation: A Great American Secret: How P...</td>\n",
       "      <td>3</td>\n",
       "    </tr>\n",
       "    <tr>\n",
       "      <th>127674</th>\n",
       "      <td>10986</td>\n",
       "      <td>Cosette: The Sequel to Les Miserables</td>\n",
       "      <td>4</td>\n",
       "    </tr>\n",
       "    <tr>\n",
       "      <th>127675</th>\n",
       "      <td>10986</td>\n",
       "      <td>J. D. Salinger's The Catcher in the Rye</td>\n",
       "      <td>5</td>\n",
       "    </tr>\n",
       "    <tr>\n",
       "      <th>127676</th>\n",
       "      <td>10988</td>\n",
       "      <td>Facing the Lion: Growing Up Maasai on the Afri...</td>\n",
       "      <td>3</td>\n",
       "    </tr>\n",
       "    <tr>\n",
       "      <th>127677</th>\n",
       "      <td>10988</td>\n",
       "      <td>Homeless Bird</td>\n",
       "      <td>3</td>\n",
       "    </tr>\n",
       "  </tbody>\n",
       "</table>\n",
       "<p>357831 rows × 3 columns</p>\n",
       "</div>"
      ],
      "text/plain": [
       "        user_id                                           item_des  ratings\n",
       "0             1  Agile Web Development with Rails: A Pragmatic ...        5\n",
       "1             1  The Restaurant at the End of the Universe (Hit...        5\n",
       "2             1                                         Siddhartha        5\n",
       "3             1  The Clock of the Long Now: Time and Responsibi...        4\n",
       "4             1            Ready Player One (Ready Player One, #1)        4\n",
       "...         ...                                                ...      ...\n",
       "127673    10978  The Foundation: A Great American Secret: How P...        3\n",
       "127674    10986              Cosette: The Sequel to Les Miserables        4\n",
       "127675    10986            J. D. Salinger's The Catcher in the Rye        5\n",
       "127676    10988  Facing the Lion: Growing Up Maasai on the Afri...        3\n",
       "127677    10988                                      Homeless Bird        3\n",
       "\n",
       "[357831 rows x 3 columns]"
      ]
     },
     "execution_count": 17,
     "metadata": {},
     "output_type": "execute_result"
    }
   ],
   "source": [
    "interactions_df"
   ]
  },
  {
   "cell_type": "code",
   "execution_count": 19,
   "metadata": {},
   "outputs": [],
   "source": [
    "df_join = (AuthorPreparation(alpha=0.2, col_author='Author', \n",
    "                            df_interactions=interactions_df, \n",
    "                            df_books=books_df.drop_duplicates())\n",
    "           .put_author_bias()\n",
    "          )\n",
    "\n"
   ]
  },
  {
   "cell_type": "code",
   "execution_count": 20,
   "metadata": {},
   "outputs": [],
   "source": [
    "dataset_surprise_alg_2 = Rating(df_join).get_surprise_dataset()"
   ]
  },
  {
   "cell_type": "code",
   "execution_count": 33,
   "metadata": {},
   "outputs": [
    {
     "name": "stdout",
     "output_type": "stream",
     "text": [
      "Evaluating RMSE of algorithm SVD on 5 split(s).\n",
      "\n",
      "                  Fold 1  Fold 2  Fold 3  Fold 4  Fold 5  Mean    Std     \n",
      "RMSE (testset)    0.7605  0.7630  0.7653  0.7621  0.7627  0.7627  0.0016  \n",
      "Fit time          6.94    7.11    16.90   12.06   10.22   10.65   3.67    \n",
      "Test time         1.26    1.25    2.60    3.59    2.07    2.15    0.88    \n"
     ]
    }
   ],
   "source": [
    "algo = SVD(n_factors=n_factors, n_epochs=grid['n_epochs'][0], random_state=1)\n",
    "kf = KFold(n_splits=5, random_state=1)\n",
    "rmse_list = []\n",
    "for uad, uar in zip(kf.split(user_authors_dat), kf.split(user_authors_real)):\n",
    "    trainset, _ = uad\n",
    "    _, testset = uar\n",
    "    algo.fit(trainset)\n",
    "    predictions = algo.test(testset)\n",
    "    rmse_list.append(accuracy.rmse(predictions))"
   ]
  },
  {
   "cell_type": "code",
   "execution_count": 34,
   "metadata": {},
   "outputs": [
    {
     "data": {
      "text/plain": [
       "{'test_rmse': array([0.76045192, 0.76304783, 0.76530042, 0.76206773, 0.76272742]),\n",
       " 'fit_time': (6.94477391242981,\n",
       "  7.114300966262817,\n",
       "  16.90139079093933,\n",
       "  12.057157516479492,\n",
       "  10.22018575668335),\n",
       " 'test_time': (1.2576217651367188,\n",
       "  1.247187852859497,\n",
       "  2.6031172275543213,\n",
       "  3.5924482345581055,\n",
       "  2.0741100311279297)}"
      ]
     },
     "execution_count": 34,
     "metadata": {},
     "output_type": "execute_result"
    }
   ],
   "source": [
    "rmse_list"
   ]
  },
  {
   "cell_type": "markdown",
   "metadata": {},
   "source": [
    "### Model benchmark. Tuning parameters"
   ]
  },
  {
   "cell_type": "markdown",
   "metadata": {},
   "source": [
    "#### Algorithm 1. Matrix Factorization"
   ]
  },
  {
   "cell_type": "code",
   "execution_count": 40,
   "metadata": {},
   "outputs": [],
   "source": [
    "grid = {'n_factors': [1,2,3,5,7,10], 'n_epochs': [15]}\n",
    "gs = GridSearchCV(SVD, grid, cv=5, n_jobs=-1)\n",
    "gs.fit(dataset_surprise_alg_1)"
   ]
  },
  {
   "cell_type": "code",
   "execution_count": 41,
   "metadata": {},
   "outputs": [
    {
     "data": {
      "text/plain": [
       "{'split0_test_rmse': array([0.8835046 , 0.88365805, 0.88347475, 0.88365889, 0.88378668,\n",
       "        0.88435486]),\n",
       " 'split1_test_rmse': array([0.88305391, 0.88298006, 0.88320357, 0.88323376, 0.88325798,\n",
       "        0.88352753]),\n",
       " 'split2_test_rmse': array([0.8804676 , 0.88039171, 0.88075257, 0.88039203, 0.8803809 ,\n",
       "        0.88122353]),\n",
       " 'split3_test_rmse': array([0.88095789, 0.88105495, 0.8811352 , 0.88087403, 0.88149831,\n",
       "        0.88139545]),\n",
       " 'split4_test_rmse': array([0.88346305, 0.8832614 , 0.88373296, 0.88366728, 0.88354253,\n",
       "        0.88390492]),\n",
       " 'mean_test_rmse': array([0.88228941, 0.88226923, 0.88245981, 0.8823652 , 0.88249328,\n",
       "        0.88288126]),\n",
       " 'std_test_rmse': array([0.00130618, 0.00129754, 0.00125487, 0.00143112, 0.00132746,\n",
       "        0.00131093]),\n",
       " 'rank_test_rmse': array([2, 1, 4, 3, 5, 6], dtype=int64),\n",
       " 'split0_test_mae': array([0.70144186, 0.70155684, 0.70141662, 0.70152806, 0.70172387,\n",
       "        0.70211536]),\n",
       " 'split1_test_mae': array([0.70241239, 0.70232611, 0.70245224, 0.70239287, 0.70260346,\n",
       "        0.70266145]),\n",
       " 'split2_test_mae': array([0.70079587, 0.70069188, 0.70101814, 0.70067617, 0.70061785,\n",
       "        0.70131318]),\n",
       " 'split3_test_mae': array([0.70015634, 0.70028852, 0.70029748, 0.70024372, 0.70053175,\n",
       "        0.70049591]),\n",
       " 'split4_test_mae': array([0.70076991, 0.70051092, 0.70088414, 0.70087139, 0.70077661,\n",
       "        0.70115818]),\n",
       " 'mean_test_mae': array([0.70111527, 0.70107485, 0.70121372, 0.70114244, 0.70125071,\n",
       "        0.70154882]),\n",
       " 'std_test_mae': array([0.00076551, 0.00075907, 0.00071575, 0.00074978, 0.0007995 ,\n",
       "        0.00075838]),\n",
       " 'rank_test_mae': array([2, 1, 4, 3, 5, 6], dtype=int64),\n",
       " 'mean_fit_time': array([ 9.52743459, 10.84355879, 12.78633232, 11.7969923 , 14.76388011,\n",
       "        19.39519   ]),\n",
       " 'std_fit_time': array([0.45112035, 0.79724774, 0.67333847, 0.67074758, 0.98319686,\n",
       "        0.96855676]),\n",
       " 'mean_test_time': array([1.94243512, 2.33801956, 2.22220755, 2.20350714, 2.59262357,\n",
       "        3.34552312]),\n",
       " 'std_test_time': array([0.42638404, 0.347389  , 0.32329437, 0.45801348, 0.21236004,\n",
       "        0.90258094]),\n",
       " 'params': [{'n_factors': 1, 'n_epochs': 15},\n",
       "  {'n_factors': 2, 'n_epochs': 15},\n",
       "  {'n_factors': 3, 'n_epochs': 15},\n",
       "  {'n_factors': 5, 'n_epochs': 15},\n",
       "  {'n_factors': 7, 'n_epochs': 15},\n",
       "  {'n_factors': 10, 'n_epochs': 15}],\n",
       " 'param_n_factors': [1, 2, 3, 5, 7, 10],\n",
       " 'param_n_epochs': [15, 15, 15, 15, 15, 15]}"
      ]
     },
     "execution_count": 41,
     "metadata": {},
     "output_type": "execute_result"
    }
   ],
   "source": [
    "gs.cv_results"
   ]
  },
  {
   "cell_type": "code",
   "execution_count": 42,
   "metadata": {},
   "outputs": [
    {
     "name": "stdout",
     "output_type": "stream",
     "text": [
      "0.8822692326873167\n",
      "{'n_factors': 2, 'n_epochs': 15}\n"
     ]
    }
   ],
   "source": [
    "# best RMSE score\n",
    "print(gs.best_score['rmse'])\n",
    "\n",
    "# combination of parameters that gave the best RMSE score\n",
    "print(gs.best_params['rmse'])"
   ]
  },
  {
   "cell_type": "code",
   "execution_count": 89,
   "metadata": {},
   "outputs": [
    {
     "data": {
      "text/plain": [
       "Text(0, 0.5, 'RMSE')"
      ]
     },
     "execution_count": 89,
     "metadata": {},
     "output_type": "execute_result"
    },
    {
     "data": {
      "image/png": "[encoded data removed]",
      "text/plain": [
       "<Figure size 936x648 with 1 Axes>"
      ]
     },
     "metadata": {
      "needs_background": "light"
     },
     "output_type": "display_data"
    }
   ],
   "source": [
    "plt.figure(figsize=(13,9))\n",
    "plt.plot([1,2,3,5,7,10],gs.cv_results['mean_test_rmse'])\n",
    "plt.title('RMSE mean for n_factors', size=14)\n",
    "plt.xlabel('# factors', size=12)\n",
    "plt.ylabel('RMSE', size=12)"
   ]
  },
  {
   "cell_type": "markdown",
   "metadata": {},
   "source": [
    "#### Algorithm 2. Matrix Factorization"
   ]
  },
  {
   "cell_type": "code",
   "execution_count": null,
   "metadata": {},
   "outputs": [],
   "source": []
  },
  {
   "cell_type": "code",
   "execution_count": 57,
   "metadata": {},
   "outputs": [
    {
     "name": "stdout",
     "output_type": "stream",
     "text": [
      "[0.25 0.5  0.75 1.  ]\n",
      "RMSE: 0.8849\n",
      "RMSE: 0.8790\n",
      "RMSE: 0.8773\n",
      "RMSE: 0.8817\n",
      "RMSE: 0.8785\n",
      "Done for # factors : 1\n",
      "RMSE: 0.8849\n",
      "RMSE: 0.8792\n",
      "RMSE: 0.8775\n",
      "RMSE: 0.8819\n",
      "RMSE: 0.8786\n",
      "Done for # factors : 2\n",
      "RMSE: 0.8850\n",
      "RMSE: 0.8791\n",
      "RMSE: 0.8774\n",
      "RMSE: 0.8818\n",
      "RMSE: 0.8786\n",
      "Done for # factors : 3\n",
      "RMSE: 0.8852\n",
      "RMSE: 0.8791\n",
      "RMSE: 0.8776\n",
      "RMSE: 0.8818\n",
      "RMSE: 0.8787\n",
      "Done for # factors : 5\n",
      "RMSE: 0.8851\n",
      "RMSE: 0.8791\n",
      "RMSE: 0.8775\n",
      "RMSE: 0.8820\n",
      "RMSE: 0.8789\n",
      "Done for # factors : 7\n",
      "Done for alpha : 0.25\n",
      "RMSE: 0.8875\n",
      "RMSE: 0.8815\n",
      "RMSE: 0.8801\n",
      "RMSE: 0.8847\n",
      "RMSE: 0.8811\n",
      "Done for # factors : 1\n",
      "RMSE: 0.8874\n",
      "RMSE: 0.8817\n",
      "RMSE: 0.8802\n",
      "RMSE: 0.8849\n",
      "RMSE: 0.8812\n",
      "Done for # factors : 2\n",
      "RMSE: 0.8875\n",
      "RMSE: 0.8816\n",
      "RMSE: 0.8802\n",
      "RMSE: 0.8848\n",
      "RMSE: 0.8812\n",
      "Done for # factors : 3\n",
      "RMSE: 0.8877\n",
      "RMSE: 0.8816\n",
      "RMSE: 0.8803\n",
      "RMSE: 0.8848\n",
      "RMSE: 0.8813\n",
      "Done for # factors : 5\n",
      "RMSE: 0.8876\n",
      "RMSE: 0.8817\n",
      "RMSE: 0.8803\n",
      "RMSE: 0.8850\n",
      "RMSE: 0.8814\n",
      "Done for # factors : 7\n",
      "Done for alpha : 0.5\n",
      "RMSE: 0.8948\n",
      "RMSE: 0.8889\n",
      "RMSE: 0.8878\n",
      "RMSE: 0.8926\n",
      "RMSE: 0.8886\n",
      "Done for # factors : 1\n",
      "RMSE: 0.8948\n",
      "RMSE: 0.8891\n",
      "RMSE: 0.8879\n",
      "RMSE: 0.8927\n",
      "RMSE: 0.8886\n",
      "Done for # factors : 2\n",
      "RMSE: 0.8949\n",
      "RMSE: 0.8890\n",
      "RMSE: 0.8879\n",
      "RMSE: 0.8927\n",
      "RMSE: 0.8886\n",
      "Done for # factors : 3\n",
      "RMSE: 0.8951\n",
      "RMSE: 0.8890\n",
      "RMSE: 0.8880\n",
      "RMSE: 0.8927\n",
      "RMSE: 0.8888\n",
      "Done for # factors : 5\n",
      "RMSE: 0.8950\n",
      "RMSE: 0.8891\n",
      "RMSE: 0.8879\n",
      "RMSE: 0.8927\n",
      "RMSE: 0.8888\n",
      "Done for # factors : 7\n",
      "Done for alpha : 0.75\n",
      "RMSE: 0.9069\n",
      "RMSE: 0.9010\n",
      "RMSE: 0.9003\n",
      "RMSE: 0.9051\n",
      "RMSE: 0.9007\n",
      "Done for # factors : 1\n",
      "RMSE: 0.9069\n",
      "RMSE: 0.9012\n",
      "RMSE: 0.9003\n",
      "RMSE: 0.9052\n",
      "RMSE: 0.9008\n",
      "Done for # factors : 2\n",
      "RMSE: 0.9070\n",
      "RMSE: 0.9011\n",
      "RMSE: 0.9004\n",
      "RMSE: 0.9052\n",
      "RMSE: 0.9008\n",
      "Done for # factors : 3\n",
      "RMSE: 0.9071\n",
      "RMSE: 0.9011\n",
      "RMSE: 0.9004\n",
      "RMSE: 0.9052\n",
      "RMSE: 0.9010\n",
      "Done for # factors : 5\n",
      "RMSE: 0.9071\n",
      "RMSE: 0.9012\n",
      "RMSE: 0.9004\n",
      "RMSE: 0.9053\n",
      "RMSE: 0.9009\n",
      "Done for # factors : 7\n",
      "Done for alpha : 1.0\n",
      "Wall time: 21min 29s\n"
     ]
    }
   ],
   "source": [
    "%%time\n",
    "\n",
    "alphas_grid = np.linspace(0.25,1,4)\n",
    "print(alphas_grid)\n",
    "dict_gs = {}\n",
    "dict_best_params = {}\n",
    "for al in alphas_grid:\n",
    "    df_join = (AuthorPreparation(alpha=al, col_author='Author', \n",
    "                            df_interactions=interactions_df, \n",
    "                            df_books=books_df.drop_duplicates())\n",
    "           .put_author_bias()\n",
    "          )\n",
    "    dataset_surprise_alg_2 = Rating(df_join).get_surprise_dataset()\n",
    "    grid = {'n_factors': [1,2,3,5,7], 'n_epochs': [15]}\n",
    "    dict_gs[al] = {}\n",
    "    for n_factors in grid['n_factors']:\n",
    "        algo = SVD(n_factors=n_factors, n_epochs=grid['n_epochs'][0], random_state=1)\n",
    "        kf = KFold(n_splits=5, random_state=1)\n",
    "        rmse_list = []\n",
    "        for uad, uar in zip(kf.split(dataset_surprise_alg_2), kf.split(dataset_surprise_alg_1)):\n",
    "            trainset, _ = uad\n",
    "            _, testset = uar\n",
    "            algo.fit(trainset)\n",
    "            predictions = algo.test(testset)\n",
    "            rmse_list.append(accuracy.rmse(predictions))\n",
    "\n",
    "        \n",
    "        dict_gs[al][n_factors] = {'mean': np.mean(rmse_list), 'std': np.std(rmse_list)}\n",
    "        print(f'Done for # factors : {n_factors}')\n",
    "    print(f'Done for alpha : {al}')\n",
    "\n"
   ]
  },
  {
   "cell_type": "code",
   "execution_count": 61,
   "metadata": {},
   "outputs": [],
   "source": [
    "    \n",
    "dict_gs[0] = gs.cv_results\n",
    "dict_best_params[0] = gs.best_params['rmse']"
   ]
  },
  {
   "cell_type": "markdown",
   "metadata": {},
   "source": [
    "### Get best parameters results\n",
    "\n",
    "Build a table with alpha, n_factors y RMSE"
   ]
  },
  {
   "cell_type": "code",
   "execution_count": 62,
   "metadata": {},
   "outputs": [],
   "source": [
    "dict_gs[0.0] = {f:{'mean': dict_gs[0]['mean_test_rmse'][i], \n",
    "                   'std': dict_gs[0]['std_test_rmse'][i]}  \n",
    "                for i, f in enumerate([1, 2, 3, 5, 7])}\n"
   ]
  },
  {
   "cell_type": "code",
   "execution_count": 97,
   "metadata": {},
   "outputs": [],
   "source": [
    "dict_gs_m = {str(alpha)+'_'+str(n_f): dict_gs[alpha][n_f]['mean'] for n_f in [1, 2, 3, 5, 7] for alpha in [0,0.25,0.5,0.75,1]}"
   ]
  },
  {
   "cell_type": "code",
   "execution_count": 101,
   "metadata": {},
   "outputs": [
    {
     "data": {
      "text/plain": [
       "{'0_1': 0.882289409536089,\n",
       " '0.25_1': 0.8803105761320873,\n",
       " '0.5_1': 0.8830047397243093,\n",
       " '0.75_1': 0.8905446210758541,\n",
       " '1_1': 0.9028184823716003,\n",
       " '0_2': 0.8822692326873167,\n",
       " '0.25_2': 0.8804272806901556,\n",
       " '0.5_2': 0.8830849303771806,\n",
       " '0.75_2': 0.8906031282775333,\n",
       " '1_2': 0.9028651873848134,\n",
       " '0_3': 0.8824598104238003,\n",
       " '0.25_3': 0.8803772319812669,\n",
       " '0.5_3': 0.88307464929994,\n",
       " '0.75_3': 0.8906168121406713,\n",
       " '1_3': 0.9028948637588666,\n",
       " '0_5': 0.8823651970760737,\n",
       " '0.25_5': 0.8804676043456444,\n",
       " '0.5_5': 0.8831559422349299,\n",
       " '0.75_5': 0.8906896270978762,\n",
       " '1_5': 0.9029632464933585,\n",
       " '0_7': 0.8824932791489692,\n",
       " '0.25_7': 0.8805261706414264,\n",
       " '0.5_7': 0.8831867968754101,\n",
       " '0.75_7': 0.8907036067375824,\n",
       " '1_7': 0.9029664417046863}"
      ]
     },
     "execution_count": 101,
     "metadata": {},
     "output_type": "execute_result"
    }
   ],
   "source": [
    "dict_gs_m"
   ]
  },
  {
   "cell_type": "code",
   "execution_count": 119,
   "metadata": {},
   "outputs": [],
   "source": [
    "import pandas as pd\n",
    "df_df = pd.DataFrame.from_dict(dict_gs_m, orient='index')"
   ]
  },
  {
   "cell_type": "code",
   "execution_count": 120,
   "metadata": {},
   "outputs": [],
   "source": [
    "df_df = df_df.reset_index()\n",
    "df_df['alpha'] = df_df['index'].apply(lambda x: x.split('_')[0])\n",
    "df_df['n_factors'] = df_df['index'].apply(lambda x: x.split('_')[1])\n",
    "df_df.drop('index', axis=1, inplace=True)"
   ]
  },
  {
   "cell_type": "code",
   "execution_count": 126,
   "metadata": {},
   "outputs": [],
   "source": [
    "df_df.columns = ['RMSE', 'alpha', 'n_factors']"
   ]
  },
  {
   "cell_type": "code",
   "execution_count": 144,
   "metadata": {},
   "outputs": [
    {
     "data": {
      "text/html": [
       "<div>\n",
       "<style scoped>\n",
       "    .dataframe tbody tr th:only-of-type {\n",
       "        vertical-align: middle;\n",
       "    }\n",
       "\n",
       "    .dataframe tbody tr th {\n",
       "        vertical-align: top;\n",
       "    }\n",
       "\n",
       "    .dataframe thead th {\n",
       "        text-align: right;\n",
       "    }\n",
       "</style>\n",
       "<table border=\"1\" class=\"dataframe\">\n",
       "  <thead>\n",
       "    <tr style=\"text-align: right;\">\n",
       "      <th>alpha</th>\n",
       "      <th>0</th>\n",
       "      <th>0.25</th>\n",
       "      <th>0.5</th>\n",
       "      <th>0.75</th>\n",
       "      <th>1</th>\n",
       "    </tr>\n",
       "    <tr>\n",
       "      <th>n_factors</th>\n",
       "      <th></th>\n",
       "      <th></th>\n",
       "      <th></th>\n",
       "      <th></th>\n",
       "      <th></th>\n",
       "    </tr>\n",
       "  </thead>\n",
       "  <tbody>\n",
       "    <tr>\n",
       "      <th>1</th>\n",
       "      <td>0.882289</td>\n",
       "      <td>0.880311</td>\n",
       "      <td>0.883005</td>\n",
       "      <td>0.890545</td>\n",
       "      <td>0.902818</td>\n",
       "    </tr>\n",
       "    <tr>\n",
       "      <th>2</th>\n",
       "      <td>0.882269</td>\n",
       "      <td>0.880427</td>\n",
       "      <td>0.883085</td>\n",
       "      <td>0.890603</td>\n",
       "      <td>0.902865</td>\n",
       "    </tr>\n",
       "    <tr>\n",
       "      <th>3</th>\n",
       "      <td>0.882460</td>\n",
       "      <td>0.880377</td>\n",
       "      <td>0.883075</td>\n",
       "      <td>0.890617</td>\n",
       "      <td>0.902895</td>\n",
       "    </tr>\n",
       "    <tr>\n",
       "      <th>5</th>\n",
       "      <td>0.882365</td>\n",
       "      <td>0.880468</td>\n",
       "      <td>0.883156</td>\n",
       "      <td>0.890690</td>\n",
       "      <td>0.902963</td>\n",
       "    </tr>\n",
       "    <tr>\n",
       "      <th>7</th>\n",
       "      <td>0.882493</td>\n",
       "      <td>0.880526</td>\n",
       "      <td>0.883187</td>\n",
       "      <td>0.890704</td>\n",
       "      <td>0.902966</td>\n",
       "    </tr>\n",
       "  </tbody>\n",
       "</table>\n",
       "</div>"
      ],
      "text/plain": [
       "alpha             0      0.25       0.5      0.75         1\n",
       "n_factors                                                  \n",
       "1          0.882289  0.880311  0.883005  0.890545  0.902818\n",
       "2          0.882269  0.880427  0.883085  0.890603  0.902865\n",
       "3          0.882460  0.880377  0.883075  0.890617  0.902895\n",
       "5          0.882365  0.880468  0.883156  0.890690  0.902963\n",
       "7          0.882493  0.880526  0.883187  0.890704  0.902966"
      ]
     },
     "execution_count": 144,
     "metadata": {},
     "output_type": "execute_result"
    }
   ],
   "source": [
    "df_df.pivot(columns='alpha', index='n_factors', values='RMSE')"
   ]
  },
  {
   "cell_type": "code",
   "execution_count": 123,
   "metadata": {},
   "outputs": [],
   "source": [
    "import seaborn as sns"
   ]
  },
  {
   "cell_type": "code",
   "execution_count": 141,
   "metadata": {},
   "outputs": [
    {
     "data": {
      "text/plain": [
       "<AxesSubplot:xlabel='alpha', ylabel='n_factors'>"
      ]
     },
     "execution_count": 141,
     "metadata": {},
     "output_type": "execute_result"
    },
    {
     "data": {
      "image/png": "[encoded data removed]",
      "text/plain": [
       "<Figure size 936x648 with 1 Axes>"
      ]
     },
     "metadata": {
      "needs_background": "light"
     },
     "output_type": "display_data"
    }
   ],
   "source": [
    "plt.figure(figsize=(13,9))\n",
    "sns.scatterplot(data=df_df, hue='RMSE', x='alpha', y='n_factors', palette='Blues', legend=False)"
   ]
  },
  {
   "cell_type": "markdown",
   "metadata": {},
   "source": [
    "## Convert to a Sagemaker Estimator"
   ]
  },
  {
   "cell_type": "code",
   "execution_count": 145,
   "metadata": {},
   "outputs": [
    {
     "ename": "ModuleNotFoundError",
     "evalue": "No module named 'sagemaker'",
     "output_type": "error",
     "traceback": [
      "\u001b[1;31m---------------------------------------------------------------------------\u001b[0m",
      "\u001b[1;31mModuleNotFoundError\u001b[0m                       Traceback (most recent call last)",
      "\u001b[1;32m<ipython-input-145-5062d6f126f6>\u001b[0m in \u001b[0;36m<module>\u001b[1;34m\u001b[0m\n\u001b[1;32m----> 1\u001b[1;33m \u001b[1;32mfrom\u001b[0m \u001b[0msagemaker\u001b[0m\u001b[1;33m.\u001b[0m\u001b[0msklearn\u001b[0m\u001b[1;33m.\u001b[0m\u001b[0mestimator\u001b[0m \u001b[1;32mimport\u001b[0m \u001b[0mSKLearn\u001b[0m\u001b[1;33m\u001b[0m\u001b[1;33m\u001b[0m\u001b[0m\n\u001b[0m\u001b[0;32m      2\u001b[0m \u001b[1;33m\u001b[0m\u001b[0m\n\u001b[0;32m      3\u001b[0m \u001b[0moutput_path\u001b[0m \u001b[1;33m=\u001b[0m \u001b[1;34m's3://{}/{}'\u001b[0m\u001b[1;33m.\u001b[0m\u001b[0mformat\u001b[0m\u001b[1;33m(\u001b[0m\u001b[0mbucket\u001b[0m\u001b[1;33m,\u001b[0m \u001b[0mprefix\u001b[0m\u001b[1;33m)\u001b[0m\u001b[1;33m\u001b[0m\u001b[1;33m\u001b[0m\u001b[0m\n\u001b[0;32m      4\u001b[0m \u001b[1;33m\u001b[0m\u001b[0m\n\u001b[0;32m      5\u001b[0m \u001b[1;31m# instantiate a pytorch estimator\u001b[0m\u001b[1;33m\u001b[0m\u001b[1;33m\u001b[0m\u001b[1;33m\u001b[0m\u001b[0m\n",
      "\u001b[1;31mModuleNotFoundError\u001b[0m: No module named 'sagemaker'"
     ]
    }
   ],
   "source": [
    "from sagemaker.sklearn.estimator import SKLearn\n",
    "import sagemaker\n",
    "bucket = 'recommendation-books-data'\n",
    "prefix = 'model'\n",
    "output_path = 's3://{}/{}'.format(bucket, prefix)\n",
    "role = sagemaker.get_execution_role()\n",
    "sagemaker_session = sagemaker.Session()\n",
    "# instantiate a pytorch estimator\n",
    "estimator = SKLearn(entry_point='train.py',\n",
    "                    source_dir='../src/sklearn_estimator/',\n",
    "                    role=role,\n",
    "                    py_version='py3',\n",
    "                    framework_version= '0.23-1',\n",
    "                    train_instance_count=1,\n",
    "                    train_instance_type='ml.c4.xlarge',\n",
    "                    output_path=output_path,\n",
    "                    sagemaker_session=sagemaker_session,\n",
    "                    hyperparameters={\n",
    "                        'epochs': 15,\n",
    "                        'alpha': 0.2,\n",
    "                        'n_factors': 3,\n",
    "                        'model-dir': '../model'\n",
    "                    }\n",
    "                    )\n"
   ]
  },
  {
   "cell_type": "code",
   "execution_count": null,
   "metadata": {},
   "outputs": [],
   "source": []
  }
 ],
 "metadata": {
  "kernelspec": {
   "display_name": "Python 3",
   "language": "python",
   "name": "python3"
  },
  "language_info": {
   "codemirror_mode": {
    "name": "ipython",
    "version": 3
   },
   "file_extension": ".py",
   "mimetype": "text/x-python",
   "name": "python",
   "nbconvert_exporter": "python",
   "pygments_lexer": "ipython3",
   "version": "3.8.5"
  }
 },
 "nbformat": 4,
 "nbformat_minor": 4
}
